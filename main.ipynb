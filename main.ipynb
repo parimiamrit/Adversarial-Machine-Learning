{
  "nbformat": 4,
  "nbformat_minor": 0,
  "metadata": {
    "colab": {
      "provenance": []
    },
    "kernelspec": {
      "display_name": "Python 3",
      "name": "python3"
    },
    "widgets": {
      "application/vnd.jupyter.widget-state+json": {
        "1f3391f5402940e38722f607947b457c": {
          "model_module": "@jupyter-widgets/controls",
          "model_name": "HBoxModel",
          "state": {
            "_view_name": "HBoxView",
            "_dom_classes": [],
            "_model_name": "HBoxModel",
            "_view_module": "@jupyter-widgets/controls",
            "_model_module_version": "1.5.0",
            "_view_count": null,
            "_view_module_version": "1.5.0",
            "box_style": "",
            "layout": "IPY_MODEL_6410e05c6a094a3ba6b8e7943be15c36",
            "_model_module": "@jupyter-widgets/controls",
            "children": [
              "IPY_MODEL_b2167792d541498d96d5007c2467727f",
              "IPY_MODEL_b3026b2fc300420da20c6a174077ce59"
            ]
          },
          "model_module_version": "1.5.0"
        },
        "6410e05c6a094a3ba6b8e7943be15c36": {
          "model_module": "@jupyter-widgets/base",
          "model_name": "LayoutModel",
          "state": {
            "_view_name": "LayoutView",
            "grid_template_rows": null,
            "right": null,
            "justify_content": null,
            "_view_module": "@jupyter-widgets/base",
            "overflow": null,
            "_model_module_version": "1.2.0",
            "_view_count": null,
            "flex_flow": null,
            "width": null,
            "min_width": null,
            "border": null,
            "align_items": null,
            "bottom": null,
            "_model_module": "@jupyter-widgets/base",
            "top": null,
            "grid_column": null,
            "overflow_y": null,
            "overflow_x": null,
            "grid_auto_flow": null,
            "grid_area": null,
            "grid_template_columns": null,
            "flex": null,
            "_model_name": "LayoutModel",
            "justify_items": null,
            "grid_row": null,
            "max_height": null,
            "align_content": null,
            "visibility": null,
            "align_self": null,
            "height": null,
            "min_height": null,
            "padding": null,
            "grid_auto_rows": null,
            "grid_gap": null,
            "max_width": null,
            "order": null,
            "_view_module_version": "1.2.0",
            "grid_template_areas": null,
            "object_position": null,
            "object_fit": null,
            "grid_auto_columns": null,
            "margin": null,
            "display": null,
            "left": null
          },
          "model_module_version": "1.2.0"
        },
        "b2167792d541498d96d5007c2467727f": {
          "model_module": "@jupyter-widgets/controls",
          "model_name": "FloatProgressModel",
          "state": {
            "_view_name": "ProgressView",
            "style": "IPY_MODEL_c693fe2ca85849909302ab5a2a2a16ad",
            "_dom_classes": [],
            "description": "",
            "_model_name": "FloatProgressModel",
            "bar_style": "success",
            "max": 9912422,
            "_view_module": "@jupyter-widgets/controls",
            "_model_module_version": "1.5.0",
            "value": 9912422,
            "_view_count": null,
            "_view_module_version": "1.5.0",
            "orientation": "horizontal",
            "min": 0,
            "description_tooltip": null,
            "_model_module": "@jupyter-widgets/controls",
            "layout": "IPY_MODEL_845ab484ddd64e9daa633226d5ed2bad"
          },
          "model_module_version": "1.5.0"
        },
        "b3026b2fc300420da20c6a174077ce59": {
          "model_module": "@jupyter-widgets/controls",
          "model_name": "HTMLModel",
          "state": {
            "_view_name": "HTMLView",
            "style": "IPY_MODEL_02a6b4167b70488faae440f8ba0d6904",
            "_dom_classes": [],
            "description": "",
            "_model_name": "HTMLModel",
            "placeholder": "​",
            "_view_module": "@jupyter-widgets/controls",
            "_model_module_version": "1.5.0",
            "value": " 9913344/? [04:23&lt;00:00, 37629.27it/s]",
            "_view_count": null,
            "_view_module_version": "1.5.0",
            "description_tooltip": null,
            "_model_module": "@jupyter-widgets/controls",
            "layout": "IPY_MODEL_2563d73adf4d4a0e9b53390f8a22af54"
          },
          "model_module_version": "1.5.0"
        },
        "c693fe2ca85849909302ab5a2a2a16ad": {
          "model_module": "@jupyter-widgets/controls",
          "model_name": "ProgressStyleModel",
          "state": {
            "_view_name": "StyleView",
            "_model_name": "ProgressStyleModel",
            "description_width": "initial",
            "_view_module": "@jupyter-widgets/base",
            "_model_module_version": "1.5.0",
            "_view_count": null,
            "_view_module_version": "1.2.0",
            "bar_color": null,
            "_model_module": "@jupyter-widgets/controls"
          },
          "model_module_version": "1.5.0"
        },
        "845ab484ddd64e9daa633226d5ed2bad": {
          "model_module": "@jupyter-widgets/base",
          "model_name": "LayoutModel",
          "state": {
            "_view_name": "LayoutView",
            "grid_template_rows": null,
            "right": null,
            "justify_content": null,
            "_view_module": "@jupyter-widgets/base",
            "overflow": null,
            "_model_module_version": "1.2.0",
            "_view_count": null,
            "flex_flow": null,
            "width": null,
            "min_width": null,
            "border": null,
            "align_items": null,
            "bottom": null,
            "_model_module": "@jupyter-widgets/base",
            "top": null,
            "grid_column": null,
            "overflow_y": null,
            "overflow_x": null,
            "grid_auto_flow": null,
            "grid_area": null,
            "grid_template_columns": null,
            "flex": null,
            "_model_name": "LayoutModel",
            "justify_items": null,
            "grid_row": null,
            "max_height": null,
            "align_content": null,
            "visibility": null,
            "align_self": null,
            "height": null,
            "min_height": null,
            "padding": null,
            "grid_auto_rows": null,
            "grid_gap": null,
            "max_width": null,
            "order": null,
            "_view_module_version": "1.2.0",
            "grid_template_areas": null,
            "object_position": null,
            "object_fit": null,
            "grid_auto_columns": null,
            "margin": null,
            "display": null,
            "left": null
          },
          "model_module_version": "1.2.0"
        },
        "02a6b4167b70488faae440f8ba0d6904": {
          "model_module": "@jupyter-widgets/controls",
          "model_name": "DescriptionStyleModel",
          "state": {
            "_view_name": "StyleView",
            "_model_name": "DescriptionStyleModel",
            "description_width": "",
            "_view_module": "@jupyter-widgets/base",
            "_model_module_version": "1.5.0",
            "_view_count": null,
            "_view_module_version": "1.2.0",
            "_model_module": "@jupyter-widgets/controls"
          },
          "model_module_version": "1.5.0"
        },
        "2563d73adf4d4a0e9b53390f8a22af54": {
          "model_module": "@jupyter-widgets/base",
          "model_name": "LayoutModel",
          "state": {
            "_view_name": "LayoutView",
            "grid_template_rows": null,
            "right": null,
            "justify_content": null,
            "_view_module": "@jupyter-widgets/base",
            "overflow": null,
            "_model_module_version": "1.2.0",
            "_view_count": null,
            "flex_flow": null,
            "width": null,
            "min_width": null,
            "border": null,
            "align_items": null,
            "bottom": null,
            "_model_module": "@jupyter-widgets/base",
            "top": null,
            "grid_column": null,
            "overflow_y": null,
            "overflow_x": null,
            "grid_auto_flow": null,
            "grid_area": null,
            "grid_template_columns": null,
            "flex": null,
            "_model_name": "LayoutModel",
            "justify_items": null,
            "grid_row": null,
            "max_height": null,
            "align_content": null,
            "visibility": null,
            "align_self": null,
            "height": null,
            "min_height": null,
            "padding": null,
            "grid_auto_rows": null,
            "grid_gap": null,
            "max_width": null,
            "order": null,
            "_view_module_version": "1.2.0",
            "grid_template_areas": null,
            "object_position": null,
            "object_fit": null,
            "grid_auto_columns": null,
            "margin": null,
            "display": null,
            "left": null
          },
          "model_module_version": "1.2.0"
        },
        "16952f67da054cdc948a9d584055d640": {
          "model_module": "@jupyter-widgets/controls",
          "model_name": "HBoxModel",
          "state": {
            "_view_name": "HBoxView",
            "_dom_classes": [],
            "_model_name": "HBoxModel",
            "_view_module": "@jupyter-widgets/controls",
            "_model_module_version": "1.5.0",
            "_view_count": null,
            "_view_module_version": "1.5.0",
            "box_style": "",
            "layout": "IPY_MODEL_817224a9f2314044a6e0fce5f45d0b72",
            "_model_module": "@jupyter-widgets/controls",
            "children": [
              "IPY_MODEL_ed30ef5bcf144ca381d6b52f782cfcf8",
              "IPY_MODEL_c39ebfaa07ab4f33af2bf4d1b4f46fa1"
            ]
          },
          "model_module_version": "1.5.0"
        },
        "817224a9f2314044a6e0fce5f45d0b72": {
          "model_module": "@jupyter-widgets/base",
          "model_name": "LayoutModel",
          "state": {
            "_view_name": "LayoutView",
            "grid_template_rows": null,
            "right": null,
            "justify_content": null,
            "_view_module": "@jupyter-widgets/base",
            "overflow": null,
            "_model_module_version": "1.2.0",
            "_view_count": null,
            "flex_flow": null,
            "width": null,
            "min_width": null,
            "border": null,
            "align_items": null,
            "bottom": null,
            "_model_module": "@jupyter-widgets/base",
            "top": null,
            "grid_column": null,
            "overflow_y": null,
            "overflow_x": null,
            "grid_auto_flow": null,
            "grid_area": null,
            "grid_template_columns": null,
            "flex": null,
            "_model_name": "LayoutModel",
            "justify_items": null,
            "grid_row": null,
            "max_height": null,
            "align_content": null,
            "visibility": null,
            "align_self": null,
            "height": null,
            "min_height": null,
            "padding": null,
            "grid_auto_rows": null,
            "grid_gap": null,
            "max_width": null,
            "order": null,
            "_view_module_version": "1.2.0",
            "grid_template_areas": null,
            "object_position": null,
            "object_fit": null,
            "grid_auto_columns": null,
            "margin": null,
            "display": null,
            "left": null
          },
          "model_module_version": "1.2.0"
        },
        "ed30ef5bcf144ca381d6b52f782cfcf8": {
          "model_module": "@jupyter-widgets/controls",
          "model_name": "FloatProgressModel",
          "state": {
            "_view_name": "ProgressView",
            "style": "IPY_MODEL_8161e06d5b824211b9fb612fefcdc4dc",
            "_dom_classes": [],
            "description": "",
            "_model_name": "FloatProgressModel",
            "bar_style": "success",
            "max": 28881,
            "_view_module": "@jupyter-widgets/controls",
            "_model_module_version": "1.5.0",
            "value": 28881,
            "_view_count": null,
            "_view_module_version": "1.5.0",
            "orientation": "horizontal",
            "min": 0,
            "description_tooltip": null,
            "_model_module": "@jupyter-widgets/controls",
            "layout": "IPY_MODEL_8bca95515fc142189a24f89bd52dd1ab"
          },
          "model_module_version": "1.5.0"
        },
        "c39ebfaa07ab4f33af2bf4d1b4f46fa1": {
          "model_module": "@jupyter-widgets/controls",
          "model_name": "HTMLModel",
          "state": {
            "_view_name": "HTMLView",
            "style": "IPY_MODEL_ef2b16fb300e4331bd08e257eca39e55",
            "_dom_classes": [],
            "description": "",
            "_model_name": "HTMLModel",
            "placeholder": "​",
            "_view_module": "@jupyter-widgets/controls",
            "_model_module_version": "1.5.0",
            "value": " 29696/? [00:00&lt;00:00, 54087.92it/s]",
            "_view_count": null,
            "_view_module_version": "1.5.0",
            "description_tooltip": null,
            "_model_module": "@jupyter-widgets/controls",
            "layout": "IPY_MODEL_ef2959d941ae4d9b963b03b8c9aff1ac"
          },
          "model_module_version": "1.5.0"
        },
        "8161e06d5b824211b9fb612fefcdc4dc": {
          "model_module": "@jupyter-widgets/controls",
          "model_name": "ProgressStyleModel",
          "state": {
            "_view_name": "StyleView",
            "_model_name": "ProgressStyleModel",
            "description_width": "initial",
            "_view_module": "@jupyter-widgets/base",
            "_model_module_version": "1.5.0",
            "_view_count": null,
            "_view_module_version": "1.2.0",
            "bar_color": null,
            "_model_module": "@jupyter-widgets/controls"
          },
          "model_module_version": "1.5.0"
        },
        "8bca95515fc142189a24f89bd52dd1ab": {
          "model_module": "@jupyter-widgets/base",
          "model_name": "LayoutModel",
          "state": {
            "_view_name": "LayoutView",
            "grid_template_rows": null,
            "right": null,
            "justify_content": null,
            "_view_module": "@jupyter-widgets/base",
            "overflow": null,
            "_model_module_version": "1.2.0",
            "_view_count": null,
            "flex_flow": null,
            "width": null,
            "min_width": null,
            "border": null,
            "align_items": null,
            "bottom": null,
            "_model_module": "@jupyter-widgets/base",
            "top": null,
            "grid_column": null,
            "overflow_y": null,
            "overflow_x": null,
            "grid_auto_flow": null,
            "grid_area": null,
            "grid_template_columns": null,
            "flex": null,
            "_model_name": "LayoutModel",
            "justify_items": null,
            "grid_row": null,
            "max_height": null,
            "align_content": null,
            "visibility": null,
            "align_self": null,
            "height": null,
            "min_height": null,
            "padding": null,
            "grid_auto_rows": null,
            "grid_gap": null,
            "max_width": null,
            "order": null,
            "_view_module_version": "1.2.0",
            "grid_template_areas": null,
            "object_position": null,
            "object_fit": null,
            "grid_auto_columns": null,
            "margin": null,
            "display": null,
            "left": null
          },
          "model_module_version": "1.2.0"
        },
        "ef2b16fb300e4331bd08e257eca39e55": {
          "model_module": "@jupyter-widgets/controls",
          "model_name": "DescriptionStyleModel",
          "state": {
            "_view_name": "StyleView",
            "_model_name": "DescriptionStyleModel",
            "description_width": "",
            "_view_module": "@jupyter-widgets/base",
            "_model_module_version": "1.5.0",
            "_view_count": null,
            "_view_module_version": "1.2.0",
            "_model_module": "@jupyter-widgets/controls"
          },
          "model_module_version": "1.5.0"
        },
        "ef2959d941ae4d9b963b03b8c9aff1ac": {
          "model_module": "@jupyter-widgets/base",
          "model_name": "LayoutModel",
          "state": {
            "_view_name": "LayoutView",
            "grid_template_rows": null,
            "right": null,
            "justify_content": null,
            "_view_module": "@jupyter-widgets/base",
            "overflow": null,
            "_model_module_version": "1.2.0",
            "_view_count": null,
            "flex_flow": null,
            "width": null,
            "min_width": null,
            "border": null,
            "align_items": null,
            "bottom": null,
            "_model_module": "@jupyter-widgets/base",
            "top": null,
            "grid_column": null,
            "overflow_y": null,
            "overflow_x": null,
            "grid_auto_flow": null,
            "grid_area": null,
            "grid_template_columns": null,
            "flex": null,
            "_model_name": "LayoutModel",
            "justify_items": null,
            "grid_row": null,
            "max_height": null,
            "align_content": null,
            "visibility": null,
            "align_self": null,
            "height": null,
            "min_height": null,
            "padding": null,
            "grid_auto_rows": null,
            "grid_gap": null,
            "max_width": null,
            "order": null,
            "_view_module_version": "1.2.0",
            "grid_template_areas": null,
            "object_position": null,
            "object_fit": null,
            "grid_auto_columns": null,
            "margin": null,
            "display": null,
            "left": null
          },
          "model_module_version": "1.2.0"
        },
        "e3e1a8aa6f63433db584686b2f6c7718": {
          "model_module": "@jupyter-widgets/controls",
          "model_name": "HBoxModel",
          "state": {
            "_view_name": "HBoxView",
            "_dom_classes": [],
            "_model_name": "HBoxModel",
            "_view_module": "@jupyter-widgets/controls",
            "_model_module_version": "1.5.0",
            "_view_count": null,
            "_view_module_version": "1.5.0",
            "box_style": "",
            "layout": "IPY_MODEL_90dea53c813e4039bc2622f24b1b3aea",
            "_model_module": "@jupyter-widgets/controls",
            "children": [
              "IPY_MODEL_612523a98317407dbe042afe20b2117e",
              "IPY_MODEL_098ace5d3f1645abbfb76aea5b8b3822"
            ]
          },
          "model_module_version": "1.5.0"
        },
        "90dea53c813e4039bc2622f24b1b3aea": {
          "model_module": "@jupyter-widgets/base",
          "model_name": "LayoutModel",
          "state": {
            "_view_name": "LayoutView",
            "grid_template_rows": null,
            "right": null,
            "justify_content": null,
            "_view_module": "@jupyter-widgets/base",
            "overflow": null,
            "_model_module_version": "1.2.0",
            "_view_count": null,
            "flex_flow": null,
            "width": null,
            "min_width": null,
            "border": null,
            "align_items": null,
            "bottom": null,
            "_model_module": "@jupyter-widgets/base",
            "top": null,
            "grid_column": null,
            "overflow_y": null,
            "overflow_x": null,
            "grid_auto_flow": null,
            "grid_area": null,
            "grid_template_columns": null,
            "flex": null,
            "_model_name": "LayoutModel",
            "justify_items": null,
            "grid_row": null,
            "max_height": null,
            "align_content": null,
            "visibility": null,
            "align_self": null,
            "height": null,
            "min_height": null,
            "padding": null,
            "grid_auto_rows": null,
            "grid_gap": null,
            "max_width": null,
            "order": null,
            "_view_module_version": "1.2.0",
            "grid_template_areas": null,
            "object_position": null,
            "object_fit": null,
            "grid_auto_columns": null,
            "margin": null,
            "display": null,
            "left": null
          },
          "model_module_version": "1.2.0"
        },
        "612523a98317407dbe042afe20b2117e": {
          "model_module": "@jupyter-widgets/controls",
          "model_name": "FloatProgressModel",
          "state": {
            "_view_name": "ProgressView",
            "style": "IPY_MODEL_a771776b32034e86bfb3e9ce22d3d064",
            "_dom_classes": [],
            "description": "",
            "_model_name": "FloatProgressModel",
            "bar_style": "success",
            "max": 1648877,
            "_view_module": "@jupyter-widgets/controls",
            "_model_module_version": "1.5.0",
            "value": 1648877,
            "_view_count": null,
            "_view_module_version": "1.5.0",
            "orientation": "horizontal",
            "min": 0,
            "description_tooltip": null,
            "_model_module": "@jupyter-widgets/controls",
            "layout": "IPY_MODEL_3a54017e56204e9faf86050fc6353fd2"
          },
          "model_module_version": "1.5.0"
        },
        "098ace5d3f1645abbfb76aea5b8b3822": {
          "model_module": "@jupyter-widgets/controls",
          "model_name": "HTMLModel",
          "state": {
            "_view_name": "HTMLView",
            "style": "IPY_MODEL_43c1610c058c405b966ceead56e61199",
            "_dom_classes": [],
            "description": "",
            "_model_name": "HTMLModel",
            "placeholder": "​",
            "_view_module": "@jupyter-widgets/controls",
            "_model_module_version": "1.5.0",
            "value": " 1649664/? [00:00&lt;00:00, 6283782.51it/s]",
            "_view_count": null,
            "_view_module_version": "1.5.0",
            "description_tooltip": null,
            "_model_module": "@jupyter-widgets/controls",
            "layout": "IPY_MODEL_13217637fefc45f29c1d127f5e4c3afb"
          },
          "model_module_version": "1.5.0"
        },
        "a771776b32034e86bfb3e9ce22d3d064": {
          "model_module": "@jupyter-widgets/controls",
          "model_name": "ProgressStyleModel",
          "state": {
            "_view_name": "StyleView",
            "_model_name": "ProgressStyleModel",
            "description_width": "initial",
            "_view_module": "@jupyter-widgets/base",
            "_model_module_version": "1.5.0",
            "_view_count": null,
            "_view_module_version": "1.2.0",
            "bar_color": null,
            "_model_module": "@jupyter-widgets/controls"
          },
          "model_module_version": "1.5.0"
        },
        "3a54017e56204e9faf86050fc6353fd2": {
          "model_module": "@jupyter-widgets/base",
          "model_name": "LayoutModel",
          "state": {
            "_view_name": "LayoutView",
            "grid_template_rows": null,
            "right": null,
            "justify_content": null,
            "_view_module": "@jupyter-widgets/base",
            "overflow": null,
            "_model_module_version": "1.2.0",
            "_view_count": null,
            "flex_flow": null,
            "width": null,
            "min_width": null,
            "border": null,
            "align_items": null,
            "bottom": null,
            "_model_module": "@jupyter-widgets/base",
            "top": null,
            "grid_column": null,
            "overflow_y": null,
            "overflow_x": null,
            "grid_auto_flow": null,
            "grid_area": null,
            "grid_template_columns": null,
            "flex": null,
            "_model_name": "LayoutModel",
            "justify_items": null,
            "grid_row": null,
            "max_height": null,
            "align_content": null,
            "visibility": null,
            "align_self": null,
            "height": null,
            "min_height": null,
            "padding": null,
            "grid_auto_rows": null,
            "grid_gap": null,
            "max_width": null,
            "order": null,
            "_view_module_version": "1.2.0",
            "grid_template_areas": null,
            "object_position": null,
            "object_fit": null,
            "grid_auto_columns": null,
            "margin": null,
            "display": null,
            "left": null
          },
          "model_module_version": "1.2.0"
        },
        "43c1610c058c405b966ceead56e61199": {
          "model_module": "@jupyter-widgets/controls",
          "model_name": "DescriptionStyleModel",
          "state": {
            "_view_name": "StyleView",
            "_model_name": "DescriptionStyleModel",
            "description_width": "",
            "_view_module": "@jupyter-widgets/base",
            "_model_module_version": "1.5.0",
            "_view_count": null,
            "_view_module_version": "1.2.0",
            "_model_module": "@jupyter-widgets/controls"
          },
          "model_module_version": "1.5.0"
        },
        "13217637fefc45f29c1d127f5e4c3afb": {
          "model_module": "@jupyter-widgets/base",
          "model_name": "LayoutModel",
          "state": {
            "_view_name": "LayoutView",
            "grid_template_rows": null,
            "right": null,
            "justify_content": null,
            "_view_module": "@jupyter-widgets/base",
            "overflow": null,
            "_model_module_version": "1.2.0",
            "_view_count": null,
            "flex_flow": null,
            "width": null,
            "min_width": null,
            "border": null,
            "align_items": null,
            "bottom": null,
            "_model_module": "@jupyter-widgets/base",
            "top": null,
            "grid_column": null,
            "overflow_y": null,
            "overflow_x": null,
            "grid_auto_flow": null,
            "grid_area": null,
            "grid_template_columns": null,
            "flex": null,
            "_model_name": "LayoutModel",
            "justify_items": null,
            "grid_row": null,
            "max_height": null,
            "align_content": null,
            "visibility": null,
            "align_self": null,
            "height": null,
            "min_height": null,
            "padding": null,
            "grid_auto_rows": null,
            "grid_gap": null,
            "max_width": null,
            "order": null,
            "_view_module_version": "1.2.0",
            "grid_template_areas": null,
            "object_position": null,
            "object_fit": null,
            "grid_auto_columns": null,
            "margin": null,
            "display": null,
            "left": null
          },
          "model_module_version": "1.2.0"
        },
        "e2262030788a4bdc95bbbc75b06514ca": {
          "model_module": "@jupyter-widgets/controls",
          "model_name": "HBoxModel",
          "state": {
            "_view_name": "HBoxView",
            "_dom_classes": [],
            "_model_name": "HBoxModel",
            "_view_module": "@jupyter-widgets/controls",
            "_model_module_version": "1.5.0",
            "_view_count": null,
            "_view_module_version": "1.5.0",
            "box_style": "",
            "layout": "IPY_MODEL_d193d138f28c46209f3753545957f427",
            "_model_module": "@jupyter-widgets/controls",
            "children": [
              "IPY_MODEL_b8a7f733e5fe4c8aaedc7d0327041e90",
              "IPY_MODEL_5b62450931e045468e157ccd6804aaeb"
            ]
          },
          "model_module_version": "1.5.0"
        },
        "d193d138f28c46209f3753545957f427": {
          "model_module": "@jupyter-widgets/base",
          "model_name": "LayoutModel",
          "state": {
            "_view_name": "LayoutView",
            "grid_template_rows": null,
            "right": null,
            "justify_content": null,
            "_view_module": "@jupyter-widgets/base",
            "overflow": null,
            "_model_module_version": "1.2.0",
            "_view_count": null,
            "flex_flow": null,
            "width": null,
            "min_width": null,
            "border": null,
            "align_items": null,
            "bottom": null,
            "_model_module": "@jupyter-widgets/base",
            "top": null,
            "grid_column": null,
            "overflow_y": null,
            "overflow_x": null,
            "grid_auto_flow": null,
            "grid_area": null,
            "grid_template_columns": null,
            "flex": null,
            "_model_name": "LayoutModel",
            "justify_items": null,
            "grid_row": null,
            "max_height": null,
            "align_content": null,
            "visibility": null,
            "align_self": null,
            "height": null,
            "min_height": null,
            "padding": null,
            "grid_auto_rows": null,
            "grid_gap": null,
            "max_width": null,
            "order": null,
            "_view_module_version": "1.2.0",
            "grid_template_areas": null,
            "object_position": null,
            "object_fit": null,
            "grid_auto_columns": null,
            "margin": null,
            "display": null,
            "left": null
          },
          "model_module_version": "1.2.0"
        },
        "b8a7f733e5fe4c8aaedc7d0327041e90": {
          "model_module": "@jupyter-widgets/controls",
          "model_name": "FloatProgressModel",
          "state": {
            "_view_name": "ProgressView",
            "style": "IPY_MODEL_23b1bdc3a395492eaa137f9594422f94",
            "_dom_classes": [],
            "description": "",
            "_model_name": "FloatProgressModel",
            "bar_style": "success",
            "max": 4542,
            "_view_module": "@jupyter-widgets/controls",
            "_model_module_version": "1.5.0",
            "value": 4542,
            "_view_count": null,
            "_view_module_version": "1.5.0",
            "orientation": "horizontal",
            "min": 0,
            "description_tooltip": null,
            "_model_module": "@jupyter-widgets/controls",
            "layout": "IPY_MODEL_2d159b2fbd4640979a54989ba0525c84"
          },
          "model_module_version": "1.5.0"
        },
        "5b62450931e045468e157ccd6804aaeb": {
          "model_module": "@jupyter-widgets/controls",
          "model_name": "HTMLModel",
          "state": {
            "_view_name": "HTMLView",
            "style": "IPY_MODEL_e222a1cba4a749b990bb3d64d9cd44b4",
            "_dom_classes": [],
            "description": "",
            "_model_name": "HTMLModel",
            "placeholder": "​",
            "_view_module": "@jupyter-widgets/controls",
            "_model_module_version": "1.5.0",
            "value": " 5120/? [00:02&lt;00:00, 2543.66it/s]",
            "_view_count": null,
            "_view_module_version": "1.5.0",
            "description_tooltip": null,
            "_model_module": "@jupyter-widgets/controls",
            "layout": "IPY_MODEL_2e66bb81d87c4ea8a07f569a6677ddda"
          },
          "model_module_version": "1.5.0"
        },
        "23b1bdc3a395492eaa137f9594422f94": {
          "model_module": "@jupyter-widgets/controls",
          "model_name": "ProgressStyleModel",
          "state": {
            "_view_name": "StyleView",
            "_model_name": "ProgressStyleModel",
            "description_width": "initial",
            "_view_module": "@jupyter-widgets/base",
            "_model_module_version": "1.5.0",
            "_view_count": null,
            "_view_module_version": "1.2.0",
            "bar_color": null,
            "_model_module": "@jupyter-widgets/controls"
          },
          "model_module_version": "1.5.0"
        },
        "2d159b2fbd4640979a54989ba0525c84": {
          "model_module": "@jupyter-widgets/base",
          "model_name": "LayoutModel",
          "state": {
            "_view_name": "LayoutView",
            "grid_template_rows": null,
            "right": null,
            "justify_content": null,
            "_view_module": "@jupyter-widgets/base",
            "overflow": null,
            "_model_module_version": "1.2.0",
            "_view_count": null,
            "flex_flow": null,
            "width": null,
            "min_width": null,
            "border": null,
            "align_items": null,
            "bottom": null,
            "_model_module": "@jupyter-widgets/base",
            "top": null,
            "grid_column": null,
            "overflow_y": null,
            "overflow_x": null,
            "grid_auto_flow": null,
            "grid_area": null,
            "grid_template_columns": null,
            "flex": null,
            "_model_name": "LayoutModel",
            "justify_items": null,
            "grid_row": null,
            "max_height": null,
            "align_content": null,
            "visibility": null,
            "align_self": null,
            "height": null,
            "min_height": null,
            "padding": null,
            "grid_auto_rows": null,
            "grid_gap": null,
            "max_width": null,
            "order": null,
            "_view_module_version": "1.2.0",
            "grid_template_areas": null,
            "object_position": null,
            "object_fit": null,
            "grid_auto_columns": null,
            "margin": null,
            "display": null,
            "left": null
          },
          "model_module_version": "1.2.0"
        },
        "e222a1cba4a749b990bb3d64d9cd44b4": {
          "model_module": "@jupyter-widgets/controls",
          "model_name": "DescriptionStyleModel",
          "state": {
            "_view_name": "StyleView",
            "_model_name": "DescriptionStyleModel",
            "description_width": "",
            "_view_module": "@jupyter-widgets/base",
            "_model_module_version": "1.5.0",
            "_view_count": null,
            "_view_module_version": "1.2.0",
            "_model_module": "@jupyter-widgets/controls"
          },
          "model_module_version": "1.5.0"
        },
        "2e66bb81d87c4ea8a07f569a6677ddda": {
          "model_module": "@jupyter-widgets/base",
          "model_name": "LayoutModel",
          "state": {
            "_view_name": "LayoutView",
            "grid_template_rows": null,
            "right": null,
            "justify_content": null,
            "_view_module": "@jupyter-widgets/base",
            "overflow": null,
            "_model_module_version": "1.2.0",
            "_view_count": null,
            "flex_flow": null,
            "width": null,
            "min_width": null,
            "border": null,
            "align_items": null,
            "bottom": null,
            "_model_module": "@jupyter-widgets/base",
            "top": null,
            "grid_column": null,
            "overflow_y": null,
            "overflow_x": null,
            "grid_auto_flow": null,
            "grid_area": null,
            "grid_template_columns": null,
            "flex": null,
            "_model_name": "LayoutModel",
            "justify_items": null,
            "grid_row": null,
            "max_height": null,
            "align_content": null,
            "visibility": null,
            "align_self": null,
            "height": null,
            "min_height": null,
            "padding": null,
            "grid_auto_rows": null,
            "grid_gap": null,
            "max_width": null,
            "order": null,
            "_view_module_version": "1.2.0",
            "grid_template_areas": null,
            "object_position": null,
            "object_fit": null,
            "grid_auto_columns": null,
            "margin": null,
            "display": null,
            "left": null
          },
          "model_module_version": "1.2.0"
        },
        "65cb8eaf59ac4e0ab59b43d85688a0c0": {
          "model_module": "@jupyter-widgets/controls",
          "model_name": "HBoxModel",
          "state": {
            "_view_name": "HBoxView",
            "_dom_classes": [],
            "_model_name": "HBoxModel",
            "_view_module": "@jupyter-widgets/controls",
            "_model_module_version": "1.5.0",
            "_view_count": null,
            "_view_module_version": "1.5.0",
            "box_style": "",
            "layout": "IPY_MODEL_9aa44105616845ada9c24b4e3eb2ac17",
            "_model_module": "@jupyter-widgets/controls",
            "children": [
              "IPY_MODEL_5cd2d7823c9340799f35ab2e079d5219",
              "IPY_MODEL_68cc3bed1bf74db29c4bcb80b8adc21f"
            ]
          },
          "model_module_version": "1.5.0"
        },
        "9aa44105616845ada9c24b4e3eb2ac17": {
          "model_module": "@jupyter-widgets/base",
          "model_name": "LayoutModel",
          "state": {
            "_view_name": "LayoutView",
            "grid_template_rows": null,
            "right": null,
            "justify_content": null,
            "_view_module": "@jupyter-widgets/base",
            "overflow": null,
            "_model_module_version": "1.2.0",
            "_view_count": null,
            "flex_flow": null,
            "width": null,
            "min_width": null,
            "border": null,
            "align_items": null,
            "bottom": null,
            "_model_module": "@jupyter-widgets/base",
            "top": null,
            "grid_column": null,
            "overflow_y": null,
            "overflow_x": null,
            "grid_auto_flow": null,
            "grid_area": null,
            "grid_template_columns": null,
            "flex": null,
            "_model_name": "LayoutModel",
            "justify_items": null,
            "grid_row": null,
            "max_height": null,
            "align_content": null,
            "visibility": null,
            "align_self": null,
            "height": null,
            "min_height": null,
            "padding": null,
            "grid_auto_rows": null,
            "grid_gap": null,
            "max_width": null,
            "order": null,
            "_view_module_version": "1.2.0",
            "grid_template_areas": null,
            "object_position": null,
            "object_fit": null,
            "grid_auto_columns": null,
            "margin": null,
            "display": null,
            "left": null
          },
          "model_module_version": "1.2.0"
        },
        "5cd2d7823c9340799f35ab2e079d5219": {
          "model_module": "@jupyter-widgets/controls",
          "model_name": "FloatProgressModel",
          "state": {
            "_view_name": "ProgressView",
            "style": "IPY_MODEL_33356a67cf9a4cc38d855a67ce4b9120",
            "_dom_classes": [],
            "description": "",
            "_model_name": "FloatProgressModel",
            "bar_style": "success",
            "max": 9912422,
            "_view_module": "@jupyter-widgets/controls",
            "_model_module_version": "1.5.0",
            "value": 9912422,
            "_view_count": null,
            "_view_module_version": "1.5.0",
            "orientation": "horizontal",
            "min": 0,
            "description_tooltip": null,
            "_model_module": "@jupyter-widgets/controls",
            "layout": "IPY_MODEL_98786e7230ff4593a5717fdc14f6025f"
          },
          "model_module_version": "1.5.0"
        },
        "68cc3bed1bf74db29c4bcb80b8adc21f": {
          "model_module": "@jupyter-widgets/controls",
          "model_name": "HTMLModel",
          "state": {
            "_view_name": "HTMLView",
            "style": "IPY_MODEL_594b16d1e91f42aeb78898dfba48cd76",
            "_dom_classes": [],
            "description": "",
            "_model_name": "HTMLModel",
            "placeholder": "​",
            "_view_module": "@jupyter-widgets/controls",
            "_model_module_version": "1.5.0",
            "value": " 9913344/? [00:00&lt;00:00, 13448053.18it/s]",
            "_view_count": null,
            "_view_module_version": "1.5.0",
            "description_tooltip": null,
            "_model_module": "@jupyter-widgets/controls",
            "layout": "IPY_MODEL_972b9a92893f4054b1fa1bf50250a6fe"
          },
          "model_module_version": "1.5.0"
        },
        "33356a67cf9a4cc38d855a67ce4b9120": {
          "model_module": "@jupyter-widgets/controls",
          "model_name": "ProgressStyleModel",
          "state": {
            "_view_name": "StyleView",
            "_model_name": "ProgressStyleModel",
            "description_width": "initial",
            "_view_module": "@jupyter-widgets/base",
            "_model_module_version": "1.5.0",
            "_view_count": null,
            "_view_module_version": "1.2.0",
            "bar_color": null,
            "_model_module": "@jupyter-widgets/controls"
          },
          "model_module_version": "1.5.0"
        },
        "98786e7230ff4593a5717fdc14f6025f": {
          "model_module": "@jupyter-widgets/base",
          "model_name": "LayoutModel",
          "state": {
            "_view_name": "LayoutView",
            "grid_template_rows": null,
            "right": null,
            "justify_content": null,
            "_view_module": "@jupyter-widgets/base",
            "overflow": null,
            "_model_module_version": "1.2.0",
            "_view_count": null,
            "flex_flow": null,
            "width": null,
            "min_width": null,
            "border": null,
            "align_items": null,
            "bottom": null,
            "_model_module": "@jupyter-widgets/base",
            "top": null,
            "grid_column": null,
            "overflow_y": null,
            "overflow_x": null,
            "grid_auto_flow": null,
            "grid_area": null,
            "grid_template_columns": null,
            "flex": null,
            "_model_name": "LayoutModel",
            "justify_items": null,
            "grid_row": null,
            "max_height": null,
            "align_content": null,
            "visibility": null,
            "align_self": null,
            "height": null,
            "min_height": null,
            "padding": null,
            "grid_auto_rows": null,
            "grid_gap": null,
            "max_width": null,
            "order": null,
            "_view_module_version": "1.2.0",
            "grid_template_areas": null,
            "object_position": null,
            "object_fit": null,
            "grid_auto_columns": null,
            "margin": null,
            "display": null,
            "left": null
          },
          "model_module_version": "1.2.0"
        },
        "594b16d1e91f42aeb78898dfba48cd76": {
          "model_module": "@jupyter-widgets/controls",
          "model_name": "DescriptionStyleModel",
          "state": {
            "_view_name": "StyleView",
            "_model_name": "DescriptionStyleModel",
            "description_width": "",
            "_view_module": "@jupyter-widgets/base",
            "_model_module_version": "1.5.0",
            "_view_count": null,
            "_view_module_version": "1.2.0",
            "_model_module": "@jupyter-widgets/controls"
          },
          "model_module_version": "1.5.0"
        },
        "972b9a92893f4054b1fa1bf50250a6fe": {
          "model_module": "@jupyter-widgets/base",
          "model_name": "LayoutModel",
          "state": {
            "_view_name": "LayoutView",
            "grid_template_rows": null,
            "right": null,
            "justify_content": null,
            "_view_module": "@jupyter-widgets/base",
            "overflow": null,
            "_model_module_version": "1.2.0",
            "_view_count": null,
            "flex_flow": null,
            "width": null,
            "min_width": null,
            "border": null,
            "align_items": null,
            "bottom": null,
            "_model_module": "@jupyter-widgets/base",
            "top": null,
            "grid_column": null,
            "overflow_y": null,
            "overflow_x": null,
            "grid_auto_flow": null,
            "grid_area": null,
            "grid_template_columns": null,
            "flex": null,
            "_model_name": "LayoutModel",
            "justify_items": null,
            "grid_row": null,
            "max_height": null,
            "align_content": null,
            "visibility": null,
            "align_self": null,
            "height": null,
            "min_height": null,
            "padding": null,
            "grid_auto_rows": null,
            "grid_gap": null,
            "max_width": null,
            "order": null,
            "_view_module_version": "1.2.0",
            "grid_template_areas": null,
            "object_position": null,
            "object_fit": null,
            "grid_auto_columns": null,
            "margin": null,
            "display": null,
            "left": null
          },
          "model_module_version": "1.2.0"
        },
        "ffff8455b3174205968f86bca1b10f84": {
          "model_module": "@jupyter-widgets/controls",
          "model_name": "HBoxModel",
          "state": {
            "_view_name": "HBoxView",
            "_dom_classes": [],
            "_model_name": "HBoxModel",
            "_view_module": "@jupyter-widgets/controls",
            "_model_module_version": "1.5.0",
            "_view_count": null,
            "_view_module_version": "1.5.0",
            "box_style": "",
            "layout": "IPY_MODEL_062bebce4b4b45d4ae5252fe1dabe0b0",
            "_model_module": "@jupyter-widgets/controls",
            "children": [
              "IPY_MODEL_c52ae5f048a44ba68e23630746dd790d",
              "IPY_MODEL_c617435de4934602bf47ae3d33ca86bd"
            ]
          },
          "model_module_version": "1.5.0"
        },
        "062bebce4b4b45d4ae5252fe1dabe0b0": {
          "model_module": "@jupyter-widgets/base",
          "model_name": "LayoutModel",
          "state": {
            "_view_name": "LayoutView",
            "grid_template_rows": null,
            "right": null,
            "justify_content": null,
            "_view_module": "@jupyter-widgets/base",
            "overflow": null,
            "_model_module_version": "1.2.0",
            "_view_count": null,
            "flex_flow": null,
            "width": null,
            "min_width": null,
            "border": null,
            "align_items": null,
            "bottom": null,
            "_model_module": "@jupyter-widgets/base",
            "top": null,
            "grid_column": null,
            "overflow_y": null,
            "overflow_x": null,
            "grid_auto_flow": null,
            "grid_area": null,
            "grid_template_columns": null,
            "flex": null,
            "_model_name": "LayoutModel",
            "justify_items": null,
            "grid_row": null,
            "max_height": null,
            "align_content": null,
            "visibility": null,
            "align_self": null,
            "height": null,
            "min_height": null,
            "padding": null,
            "grid_auto_rows": null,
            "grid_gap": null,
            "max_width": null,
            "order": null,
            "_view_module_version": "1.2.0",
            "grid_template_areas": null,
            "object_position": null,
            "object_fit": null,
            "grid_auto_columns": null,
            "margin": null,
            "display": null,
            "left": null
          },
          "model_module_version": "1.2.0"
        },
        "c52ae5f048a44ba68e23630746dd790d": {
          "model_module": "@jupyter-widgets/controls",
          "model_name": "FloatProgressModel",
          "state": {
            "_view_name": "ProgressView",
            "style": "IPY_MODEL_28f5884991174002ac1581c5942557f9",
            "_dom_classes": [],
            "description": "",
            "_model_name": "FloatProgressModel",
            "bar_style": "success",
            "max": 28881,
            "_view_module": "@jupyter-widgets/controls",
            "_model_module_version": "1.5.0",
            "value": 28881,
            "_view_count": null,
            "_view_module_version": "1.5.0",
            "orientation": "horizontal",
            "min": 0,
            "description_tooltip": null,
            "_model_module": "@jupyter-widgets/controls",
            "layout": "IPY_MODEL_0d453d896cdd4192908ce96f657d30a9"
          },
          "model_module_version": "1.5.0"
        },
        "c617435de4934602bf47ae3d33ca86bd": {
          "model_module": "@jupyter-widgets/controls",
          "model_name": "HTMLModel",
          "state": {
            "_view_name": "HTMLView",
            "style": "IPY_MODEL_8001c60ce9164ac982de27dafddd96d0",
            "_dom_classes": [],
            "description": "",
            "_model_name": "HTMLModel",
            "placeholder": "​",
            "_view_module": "@jupyter-widgets/controls",
            "_model_module_version": "1.5.0",
            "value": " 29696/? [00:00&lt;00:00, 32852.07it/s]",
            "_view_count": null,
            "_view_module_version": "1.5.0",
            "description_tooltip": null,
            "_model_module": "@jupyter-widgets/controls",
            "layout": "IPY_MODEL_b3df21f883bc4cf89da9b224f51e341d"
          },
          "model_module_version": "1.5.0"
        },
        "28f5884991174002ac1581c5942557f9": {
          "model_module": "@jupyter-widgets/controls",
          "model_name": "ProgressStyleModel",
          "state": {
            "_view_name": "StyleView",
            "_model_name": "ProgressStyleModel",
            "description_width": "initial",
            "_view_module": "@jupyter-widgets/base",
            "_model_module_version": "1.5.0",
            "_view_count": null,
            "_view_module_version": "1.2.0",
            "bar_color": null,
            "_model_module": "@jupyter-widgets/controls"
          },
          "model_module_version": "1.5.0"
        },
        "0d453d896cdd4192908ce96f657d30a9": {
          "model_module": "@jupyter-widgets/base",
          "model_name": "LayoutModel",
          "state": {
            "_view_name": "LayoutView",
            "grid_template_rows": null,
            "right": null,
            "justify_content": null,
            "_view_module": "@jupyter-widgets/base",
            "overflow": null,
            "_model_module_version": "1.2.0",
            "_view_count": null,
            "flex_flow": null,
            "width": null,
            "min_width": null,
            "border": null,
            "align_items": null,
            "bottom": null,
            "_model_module": "@jupyter-widgets/base",
            "top": null,
            "grid_column": null,
            "overflow_y": null,
            "overflow_x": null,
            "grid_auto_flow": null,
            "grid_area": null,
            "grid_template_columns": null,
            "flex": null,
            "_model_name": "LayoutModel",
            "justify_items": null,
            "grid_row": null,
            "max_height": null,
            "align_content": null,
            "visibility": null,
            "align_self": null,
            "height": null,
            "min_height": null,
            "padding": null,
            "grid_auto_rows": null,
            "grid_gap": null,
            "max_width": null,
            "order": null,
            "_view_module_version": "1.2.0",
            "grid_template_areas": null,
            "object_position": null,
            "object_fit": null,
            "grid_auto_columns": null,
            "margin": null,
            "display": null,
            "left": null
          },
          "model_module_version": "1.2.0"
        },
        "8001c60ce9164ac982de27dafddd96d0": {
          "model_module": "@jupyter-widgets/controls",
          "model_name": "DescriptionStyleModel",
          "state": {
            "_view_name": "StyleView",
            "_model_name": "DescriptionStyleModel",
            "description_width": "",
            "_view_module": "@jupyter-widgets/base",
            "_model_module_version": "1.5.0",
            "_view_count": null,
            "_view_module_version": "1.2.0",
            "_model_module": "@jupyter-widgets/controls"
          },
          "model_module_version": "1.5.0"
        },
        "b3df21f883bc4cf89da9b224f51e341d": {
          "model_module": "@jupyter-widgets/base",
          "model_name": "LayoutModel",
          "state": {
            "_view_name": "LayoutView",
            "grid_template_rows": null,
            "right": null,
            "justify_content": null,
            "_view_module": "@jupyter-widgets/base",
            "overflow": null,
            "_model_module_version": "1.2.0",
            "_view_count": null,
            "flex_flow": null,
            "width": null,
            "min_width": null,
            "border": null,
            "align_items": null,
            "bottom": null,
            "_model_module": "@jupyter-widgets/base",
            "top": null,
            "grid_column": null,
            "overflow_y": null,
            "overflow_x": null,
            "grid_auto_flow": null,
            "grid_area": null,
            "grid_template_columns": null,
            "flex": null,
            "_model_name": "LayoutModel",
            "justify_items": null,
            "grid_row": null,
            "max_height": null,
            "align_content": null,
            "visibility": null,
            "align_self": null,
            "height": null,
            "min_height": null,
            "padding": null,
            "grid_auto_rows": null,
            "grid_gap": null,
            "max_width": null,
            "order": null,
            "_view_module_version": "1.2.0",
            "grid_template_areas": null,
            "object_position": null,
            "object_fit": null,
            "grid_auto_columns": null,
            "margin": null,
            "display": null,
            "left": null
          },
          "model_module_version": "1.2.0"
        },
        "0fe46ccdc25d4102b259126d62d8f612": {
          "model_module": "@jupyter-widgets/controls",
          "model_name": "HBoxModel",
          "state": {
            "_view_name": "HBoxView",
            "_dom_classes": [],
            "_model_name": "HBoxModel",
            "_view_module": "@jupyter-widgets/controls",
            "_model_module_version": "1.5.0",
            "_view_count": null,
            "_view_module_version": "1.5.0",
            "box_style": "",
            "layout": "IPY_MODEL_5edfeee63f984855aec7698ddbacf196",
            "_model_module": "@jupyter-widgets/controls",
            "children": [
              "IPY_MODEL_fdb5a3ab4a8048069c5c15b071514f17",
              "IPY_MODEL_ef4caea33d664c709ec19684e081c2a1"
            ]
          },
          "model_module_version": "1.5.0"
        },
        "5edfeee63f984855aec7698ddbacf196": {
          "model_module": "@jupyter-widgets/base",
          "model_name": "LayoutModel",
          "state": {
            "_view_name": "LayoutView",
            "grid_template_rows": null,
            "right": null,
            "justify_content": null,
            "_view_module": "@jupyter-widgets/base",
            "overflow": null,
            "_model_module_version": "1.2.0",
            "_view_count": null,
            "flex_flow": null,
            "width": null,
            "min_width": null,
            "border": null,
            "align_items": null,
            "bottom": null,
            "_model_module": "@jupyter-widgets/base",
            "top": null,
            "grid_column": null,
            "overflow_y": null,
            "overflow_x": null,
            "grid_auto_flow": null,
            "grid_area": null,
            "grid_template_columns": null,
            "flex": null,
            "_model_name": "LayoutModel",
            "justify_items": null,
            "grid_row": null,
            "max_height": null,
            "align_content": null,
            "visibility": null,
            "align_self": null,
            "height": null,
            "min_height": null,
            "padding": null,
            "grid_auto_rows": null,
            "grid_gap": null,
            "max_width": null,
            "order": null,
            "_view_module_version": "1.2.0",
            "grid_template_areas": null,
            "object_position": null,
            "object_fit": null,
            "grid_auto_columns": null,
            "margin": null,
            "display": null,
            "left": null
          },
          "model_module_version": "1.2.0"
        },
        "fdb5a3ab4a8048069c5c15b071514f17": {
          "model_module": "@jupyter-widgets/controls",
          "model_name": "FloatProgressModel",
          "state": {
            "_view_name": "ProgressView",
            "style": "IPY_MODEL_cff85398ed3d417aa48361613e1e2c72",
            "_dom_classes": [],
            "description": "",
            "_model_name": "FloatProgressModel",
            "bar_style": "success",
            "max": 1648877,
            "_view_module": "@jupyter-widgets/controls",
            "_model_module_version": "1.5.0",
            "value": 1648877,
            "_view_count": null,
            "_view_module_version": "1.5.0",
            "orientation": "horizontal",
            "min": 0,
            "description_tooltip": null,
            "_model_module": "@jupyter-widgets/controls",
            "layout": "IPY_MODEL_ba4f19ba597c4e75aae10b02101ce104"
          },
          "model_module_version": "1.5.0"
        },
        "ef4caea33d664c709ec19684e081c2a1": {
          "model_module": "@jupyter-widgets/controls",
          "model_name": "HTMLModel",
          "state": {
            "_view_name": "HTMLView",
            "style": "IPY_MODEL_8d86f8739aab41a084066ac680c65eb1",
            "_dom_classes": [],
            "description": "",
            "_model_name": "HTMLModel",
            "placeholder": "​",
            "_view_module": "@jupyter-widgets/controls",
            "_model_module_version": "1.5.0",
            "value": " 1649664/? [00:00&lt;00:00, 2914389.63it/s]",
            "_view_count": null,
            "_view_module_version": "1.5.0",
            "description_tooltip": null,
            "_model_module": "@jupyter-widgets/controls",
            "layout": "IPY_MODEL_daadde48b2f446eca77b666d3c2807a2"
          },
          "model_module_version": "1.5.0"
        },
        "cff85398ed3d417aa48361613e1e2c72": {
          "model_module": "@jupyter-widgets/controls",
          "model_name": "ProgressStyleModel",
          "state": {
            "_view_name": "StyleView",
            "_model_name": "ProgressStyleModel",
            "description_width": "initial",
            "_view_module": "@jupyter-widgets/base",
            "_model_module_version": "1.5.0",
            "_view_count": null,
            "_view_module_version": "1.2.0",
            "bar_color": null,
            "_model_module": "@jupyter-widgets/controls"
          },
          "model_module_version": "1.5.0"
        },
        "ba4f19ba597c4e75aae10b02101ce104": {
          "model_module": "@jupyter-widgets/base",
          "model_name": "LayoutModel",
          "state": {
            "_view_name": "LayoutView",
            "grid_template_rows": null,
            "right": null,
            "justify_content": null,
            "_view_module": "@jupyter-widgets/base",
            "overflow": null,
            "_model_module_version": "1.2.0",
            "_view_count": null,
            "flex_flow": null,
            "width": null,
            "min_width": null,
            "border": null,
            "align_items": null,
            "bottom": null,
            "_model_module": "@jupyter-widgets/base",
            "top": null,
            "grid_column": null,
            "overflow_y": null,
            "overflow_x": null,
            "grid_auto_flow": null,
            "grid_area": null,
            "grid_template_columns": null,
            "flex": null,
            "_model_name": "LayoutModel",
            "justify_items": null,
            "grid_row": null,
            "max_height": null,
            "align_content": null,
            "visibility": null,
            "align_self": null,
            "height": null,
            "min_height": null,
            "padding": null,
            "grid_auto_rows": null,
            "grid_gap": null,
            "max_width": null,
            "order": null,
            "_view_module_version": "1.2.0",
            "grid_template_areas": null,
            "object_position": null,
            "object_fit": null,
            "grid_auto_columns": null,
            "margin": null,
            "display": null,
            "left": null
          },
          "model_module_version": "1.2.0"
        },
        "8d86f8739aab41a084066ac680c65eb1": {
          "model_module": "@jupyter-widgets/controls",
          "model_name": "DescriptionStyleModel",
          "state": {
            "_view_name": "StyleView",
            "_model_name": "DescriptionStyleModel",
            "description_width": "",
            "_view_module": "@jupyter-widgets/base",
            "_model_module_version": "1.5.0",
            "_view_count": null,
            "_view_module_version": "1.2.0",
            "_model_module": "@jupyter-widgets/controls"
          },
          "model_module_version": "1.5.0"
        },
        "daadde48b2f446eca77b666d3c2807a2": {
          "model_module": "@jupyter-widgets/base",
          "model_name": "LayoutModel",
          "state": {
            "_view_name": "LayoutView",
            "grid_template_rows": null,
            "right": null,
            "justify_content": null,
            "_view_module": "@jupyter-widgets/base",
            "overflow": null,
            "_model_module_version": "1.2.0",
            "_view_count": null,
            "flex_flow": null,
            "width": null,
            "min_width": null,
            "border": null,
            "align_items": null,
            "bottom": null,
            "_model_module": "@jupyter-widgets/base",
            "top": null,
            "grid_column": null,
            "overflow_y": null,
            "overflow_x": null,
            "grid_auto_flow": null,
            "grid_area": null,
            "grid_template_columns": null,
            "flex": null,
            "_model_name": "LayoutModel",
            "justify_items": null,
            "grid_row": null,
            "max_height": null,
            "align_content": null,
            "visibility": null,
            "align_self": null,
            "height": null,
            "min_height": null,
            "padding": null,
            "grid_auto_rows": null,
            "grid_gap": null,
            "max_width": null,
            "order": null,
            "_view_module_version": "1.2.0",
            "grid_template_areas": null,
            "object_position": null,
            "object_fit": null,
            "grid_auto_columns": null,
            "margin": null,
            "display": null,
            "left": null
          },
          "model_module_version": "1.2.0"
        },
        "3cd28f5b4d274574b772e89db7f164ce": {
          "model_module": "@jupyter-widgets/controls",
          "model_name": "HBoxModel",
          "state": {
            "_view_name": "HBoxView",
            "_dom_classes": [],
            "_model_name": "HBoxModel",
            "_view_module": "@jupyter-widgets/controls",
            "_model_module_version": "1.5.0",
            "_view_count": null,
            "_view_module_version": "1.5.0",
            "box_style": "",
            "layout": "IPY_MODEL_bdaf7bd1333c4060997a0159970ef1a3",
            "_model_module": "@jupyter-widgets/controls",
            "children": [
              "IPY_MODEL_783202bab779493b89f91675a74f0e74",
              "IPY_MODEL_f35e8e244bd9483fb762ac0be6e17e5c"
            ]
          },
          "model_module_version": "1.5.0"
        },
        "bdaf7bd1333c4060997a0159970ef1a3": {
          "model_module": "@jupyter-widgets/base",
          "model_name": "LayoutModel",
          "state": {
            "_view_name": "LayoutView",
            "grid_template_rows": null,
            "right": null,
            "justify_content": null,
            "_view_module": "@jupyter-widgets/base",
            "overflow": null,
            "_model_module_version": "1.2.0",
            "_view_count": null,
            "flex_flow": null,
            "width": null,
            "min_width": null,
            "border": null,
            "align_items": null,
            "bottom": null,
            "_model_module": "@jupyter-widgets/base",
            "top": null,
            "grid_column": null,
            "overflow_y": null,
            "overflow_x": null,
            "grid_auto_flow": null,
            "grid_area": null,
            "grid_template_columns": null,
            "flex": null,
            "_model_name": "LayoutModel",
            "justify_items": null,
            "grid_row": null,
            "max_height": null,
            "align_content": null,
            "visibility": null,
            "align_self": null,
            "height": null,
            "min_height": null,
            "padding": null,
            "grid_auto_rows": null,
            "grid_gap": null,
            "max_width": null,
            "order": null,
            "_view_module_version": "1.2.0",
            "grid_template_areas": null,
            "object_position": null,
            "object_fit": null,
            "grid_auto_columns": null,
            "margin": null,
            "display": null,
            "left": null
          },
          "model_module_version": "1.2.0"
        },
        "783202bab779493b89f91675a74f0e74": {
          "model_module": "@jupyter-widgets/controls",
          "model_name": "FloatProgressModel",
          "state": {
            "_view_name": "ProgressView",
            "style": "IPY_MODEL_639afd94a3ed445f9a3d5178d45774b3",
            "_dom_classes": [],
            "description": "",
            "_model_name": "FloatProgressModel",
            "bar_style": "success",
            "max": 4542,
            "_view_module": "@jupyter-widgets/controls",
            "_model_module_version": "1.5.0",
            "value": 4542,
            "_view_count": null,
            "_view_module_version": "1.5.0",
            "orientation": "horizontal",
            "min": 0,
            "description_tooltip": null,
            "_model_module": "@jupyter-widgets/controls",
            "layout": "IPY_MODEL_839c1cbb63d24d61a640281ad63aca77"
          },
          "model_module_version": "1.5.0"
        },
        "f35e8e244bd9483fb762ac0be6e17e5c": {
          "model_module": "@jupyter-widgets/controls",
          "model_name": "HTMLModel",
          "state": {
            "_view_name": "HTMLView",
            "style": "IPY_MODEL_4db4b08152614634ac205b51212835d2",
            "_dom_classes": [],
            "description": "",
            "_model_name": "HTMLModel",
            "placeholder": "​",
            "_view_module": "@jupyter-widgets/controls",
            "_model_module_version": "1.5.0",
            "value": " 5120/? [00:00&lt;00:00, 17550.34it/s]",
            "_view_count": null,
            "_view_module_version": "1.5.0",
            "description_tooltip": null,
            "_model_module": "@jupyter-widgets/controls",
            "layout": "IPY_MODEL_bf0ff917115d4518b30474a909d267ef"
          },
          "model_module_version": "1.5.0"
        },
        "639afd94a3ed445f9a3d5178d45774b3": {
          "model_module": "@jupyter-widgets/controls",
          "model_name": "ProgressStyleModel",
          "state": {
            "_view_name": "StyleView",
            "_model_name": "ProgressStyleModel",
            "description_width": "initial",
            "_view_module": "@jupyter-widgets/base",
            "_model_module_version": "1.5.0",
            "_view_count": null,
            "_view_module_version": "1.2.0",
            "bar_color": null,
            "_model_module": "@jupyter-widgets/controls"
          },
          "model_module_version": "1.5.0"
        },
        "839c1cbb63d24d61a640281ad63aca77": {
          "model_module": "@jupyter-widgets/base",
          "model_name": "LayoutModel",
          "state": {
            "_view_name": "LayoutView",
            "grid_template_rows": null,
            "right": null,
            "justify_content": null,
            "_view_module": "@jupyter-widgets/base",
            "overflow": null,
            "_model_module_version": "1.2.0",
            "_view_count": null,
            "flex_flow": null,
            "width": null,
            "min_width": null,
            "border": null,
            "align_items": null,
            "bottom": null,
            "_model_module": "@jupyter-widgets/base",
            "top": null,
            "grid_column": null,
            "overflow_y": null,
            "overflow_x": null,
            "grid_auto_flow": null,
            "grid_area": null,
            "grid_template_columns": null,
            "flex": null,
            "_model_name": "LayoutModel",
            "justify_items": null,
            "grid_row": null,
            "max_height": null,
            "align_content": null,
            "visibility": null,
            "align_self": null,
            "height": null,
            "min_height": null,
            "padding": null,
            "grid_auto_rows": null,
            "grid_gap": null,
            "max_width": null,
            "order": null,
            "_view_module_version": "1.2.0",
            "grid_template_areas": null,
            "object_position": null,
            "object_fit": null,
            "grid_auto_columns": null,
            "margin": null,
            "display": null,
            "left": null
          },
          "model_module_version": "1.2.0"
        },
        "4db4b08152614634ac205b51212835d2": {
          "model_module": "@jupyter-widgets/controls",
          "model_name": "DescriptionStyleModel",
          "state": {
            "_view_name": "StyleView",
            "_model_name": "DescriptionStyleModel",
            "description_width": "",
            "_view_module": "@jupyter-widgets/base",
            "_model_module_version": "1.5.0",
            "_view_count": null,
            "_view_module_version": "1.2.0",
            "_model_module": "@jupyter-widgets/controls"
          },
          "model_module_version": "1.5.0"
        },
        "bf0ff917115d4518b30474a909d267ef": {
          "model_module": "@jupyter-widgets/base",
          "model_name": "LayoutModel",
          "state": {
            "_view_name": "LayoutView",
            "grid_template_rows": null,
            "right": null,
            "justify_content": null,
            "_view_module": "@jupyter-widgets/base",
            "overflow": null,
            "_model_module_version": "1.2.0",
            "_view_count": null,
            "flex_flow": null,
            "width": null,
            "min_width": null,
            "border": null,
            "align_items": null,
            "bottom": null,
            "_model_module": "@jupyter-widgets/base",
            "top": null,
            "grid_column": null,
            "overflow_y": null,
            "overflow_x": null,
            "grid_auto_flow": null,
            "grid_area": null,
            "grid_template_columns": null,
            "flex": null,
            "_model_name": "LayoutModel",
            "justify_items": null,
            "grid_row": null,
            "max_height": null,
            "align_content": null,
            "visibility": null,
            "align_self": null,
            "height": null,
            "min_height": null,
            "padding": null,
            "grid_auto_rows": null,
            "grid_gap": null,
            "max_width": null,
            "order": null,
            "_view_module_version": "1.2.0",
            "grid_template_areas": null,
            "object_position": null,
            "object_fit": null,
            "grid_auto_columns": null,
            "margin": null,
            "display": null,
            "left": null
          },
          "model_module_version": "1.2.0"
        }
      }
    }
  },
  "cells": [
    {
      "cell_type": "code",
      "metadata": {
        "colab": {
          "base_uri": "https://localhost:8080/",
          "height": 1000,
          "referenced_widgets": [
            "1f3391f5402940e38722f607947b457c",
            "6410e05c6a094a3ba6b8e7943be15c36",
            "b2167792d541498d96d5007c2467727f",
            "b3026b2fc300420da20c6a174077ce59",
            "c693fe2ca85849909302ab5a2a2a16ad",
            "845ab484ddd64e9daa633226d5ed2bad",
            "02a6b4167b70488faae440f8ba0d6904",
            "2563d73adf4d4a0e9b53390f8a22af54",
            "16952f67da054cdc948a9d584055d640",
            "817224a9f2314044a6e0fce5f45d0b72",
            "ed30ef5bcf144ca381d6b52f782cfcf8",
            "c39ebfaa07ab4f33af2bf4d1b4f46fa1",
            "8161e06d5b824211b9fb612fefcdc4dc",
            "8bca95515fc142189a24f89bd52dd1ab",
            "ef2b16fb300e4331bd08e257eca39e55",
            "ef2959d941ae4d9b963b03b8c9aff1ac",
            "e3e1a8aa6f63433db584686b2f6c7718",
            "90dea53c813e4039bc2622f24b1b3aea",
            "612523a98317407dbe042afe20b2117e",
            "098ace5d3f1645abbfb76aea5b8b3822",
            "a771776b32034e86bfb3e9ce22d3d064",
            "3a54017e56204e9faf86050fc6353fd2",
            "43c1610c058c405b966ceead56e61199",
            "13217637fefc45f29c1d127f5e4c3afb",
            "e2262030788a4bdc95bbbc75b06514ca",
            "d193d138f28c46209f3753545957f427",
            "b8a7f733e5fe4c8aaedc7d0327041e90",
            "5b62450931e045468e157ccd6804aaeb",
            "23b1bdc3a395492eaa137f9594422f94",
            "2d159b2fbd4640979a54989ba0525c84",
            "e222a1cba4a749b990bb3d64d9cd44b4",
            "2e66bb81d87c4ea8a07f569a6677ddda",
            "65cb8eaf59ac4e0ab59b43d85688a0c0",
            "9aa44105616845ada9c24b4e3eb2ac17",
            "5cd2d7823c9340799f35ab2e079d5219",
            "68cc3bed1bf74db29c4bcb80b8adc21f",
            "33356a67cf9a4cc38d855a67ce4b9120",
            "98786e7230ff4593a5717fdc14f6025f",
            "594b16d1e91f42aeb78898dfba48cd76",
            "972b9a92893f4054b1fa1bf50250a6fe",
            "ffff8455b3174205968f86bca1b10f84",
            "062bebce4b4b45d4ae5252fe1dabe0b0",
            "c52ae5f048a44ba68e23630746dd790d",
            "c617435de4934602bf47ae3d33ca86bd",
            "28f5884991174002ac1581c5942557f9",
            "0d453d896cdd4192908ce96f657d30a9",
            "8001c60ce9164ac982de27dafddd96d0",
            "b3df21f883bc4cf89da9b224f51e341d",
            "0fe46ccdc25d4102b259126d62d8f612",
            "5edfeee63f984855aec7698ddbacf196",
            "fdb5a3ab4a8048069c5c15b071514f17",
            "ef4caea33d664c709ec19684e081c2a1",
            "cff85398ed3d417aa48361613e1e2c72",
            "ba4f19ba597c4e75aae10b02101ce104",
            "8d86f8739aab41a084066ac680c65eb1",
            "daadde48b2f446eca77b666d3c2807a2",
            "3cd28f5b4d274574b772e89db7f164ce",
            "bdaf7bd1333c4060997a0159970ef1a3",
            "783202bab779493b89f91675a74f0e74",
            "f35e8e244bd9483fb762ac0be6e17e5c",
            "639afd94a3ed445f9a3d5178d45774b3",
            "839c1cbb63d24d61a640281ad63aca77",
            "4db4b08152614634ac205b51212835d2",
            "bf0ff917115d4518b30474a909d267ef"
          ]
        },
        "id": "J1X8l_Pbs0qB",
        "outputId": "48e12e33-a917-4e18-9fad-65107dc3673b"
      },
      "source": [
        "# importing the libraries\n",
        "import numpy as np\n",
        "import torch\n",
        "import torchvision\n",
        "import matplotlib.pyplot as plt\n",
        "from time import time\n",
        "from torchvision import datasets, transforms\n",
        "from torch import nn, optim\n",
        "import torch.nn.functional as F\n",
        "import torch.nn as nn\n",
        "import torch.optim as optim\n",
        "from torch.utils.data.sampler import SubsetRandomSampler\n",
        "from torch.utils.data import DataLoader\n",
        "%matplotlib inline\n",
        "\n",
        "\n",
        "# transformations to be applied on images\n",
        "transform = transforms.Compose([transforms.ToTensor(),\n",
        "                              transforms.Normalize((0.5,), (0.5,)),\n",
        "                              ])\n",
        "# defining the training and testing set\n",
        "trainset = datasets.MNIST('./data', download=True, train=True, transform=transform)\n",
        "testset = datasets.MNIST('./', download=True, train=False, transform=transform)\n",
        "# defining trainloader and testloader\n",
        "trainloader = torch.utils.data.DataLoader(trainset, batch_size=64, shuffle=True)\n",
        "testloader = torch.utils.data.DataLoader(testset, batch_size=64, shuffle=True)\n",
        "# shape of training data\n",
        "dataiter = iter(trainloader)\n",
        "images, labels = dataiter.next()\n",
        "\n",
        "print(images.shape)\n",
        "print(labels.shape)\n",
        "# visualizing the training images\n",
        "plt.imshow(images[0].numpy().squeeze(), cmap='gray')"
      ],
      "execution_count": null,
      "outputs": [
        {
          "output_type": "stream",
          "text": [
            "Downloading http://yann.lecun.com/exdb/mnist/train-images-idx3-ubyte.gz\n",
            "Downloading http://yann.lecun.com/exdb/mnist/train-images-idx3-ubyte.gz to ./data/MNIST/raw/train-images-idx3-ubyte.gz\n"
          ],
          "name": "stdout"
        },
        {
          "output_type": "display_data",
          "data": {
            "application/vnd.jupyter.widget-view+json": {
              "model_id": "1f3391f5402940e38722f607947b457c",
              "version_minor": 0,
              "version_major": 2
            },
            "text/plain": [
              "HBox(children=(FloatProgress(value=0.0, max=9912422.0), HTML(value='')))"
            ]
          },
          "metadata": {
            "tags": []
          }
        },
        {
          "output_type": "stream",
          "text": [
            "\n",
            "Extracting ./data/MNIST/raw/train-images-idx3-ubyte.gz to ./data/MNIST/raw\n",
            "\n",
            "Downloading http://yann.lecun.com/exdb/mnist/train-labels-idx1-ubyte.gz\n",
            "Downloading http://yann.lecun.com/exdb/mnist/train-labels-idx1-ubyte.gz to ./data/MNIST/raw/train-labels-idx1-ubyte.gz\n"
          ],
          "name": "stdout"
        },
        {
          "output_type": "display_data",
          "data": {
            "application/vnd.jupyter.widget-view+json": {
              "model_id": "16952f67da054cdc948a9d584055d640",
              "version_minor": 0,
              "version_major": 2
            },
            "text/plain": [
              "HBox(children=(FloatProgress(value=0.0, max=28881.0), HTML(value='')))"
            ]
          },
          "metadata": {
            "tags": []
          }
        },
        {
          "output_type": "stream",
          "text": [
            "\n",
            "Extracting ./data/MNIST/raw/train-labels-idx1-ubyte.gz to ./data/MNIST/raw\n",
            "\n",
            "Downloading http://yann.lecun.com/exdb/mnist/t10k-images-idx3-ubyte.gz\n",
            "Downloading http://yann.lecun.com/exdb/mnist/t10k-images-idx3-ubyte.gz to ./data/MNIST/raw/t10k-images-idx3-ubyte.gz\n",
            "Failed to download (trying next):\n",
            "HTTP Error 503: Service Unavailable\n",
            "\n",
            "Downloading https://ossci-datasets.s3.amazonaws.com/mnist/t10k-images-idx3-ubyte.gz\n",
            "Downloading https://ossci-datasets.s3.amazonaws.com/mnist/t10k-images-idx3-ubyte.gz to ./data/MNIST/raw/t10k-images-idx3-ubyte.gz\n"
          ],
          "name": "stdout"
        },
        {
          "output_type": "display_data",
          "data": {
            "application/vnd.jupyter.widget-view+json": {
              "model_id": "e3e1a8aa6f63433db584686b2f6c7718",
              "version_minor": 0,
              "version_major": 2
            },
            "text/plain": [
              "HBox(children=(FloatProgress(value=0.0, max=1648877.0), HTML(value='')))"
            ]
          },
          "metadata": {
            "tags": []
          }
        },
        {
          "output_type": "stream",
          "text": [
            "\n",
            "Extracting ./data/MNIST/raw/t10k-images-idx3-ubyte.gz to ./data/MNIST/raw\n",
            "\n",
            "Downloading http://yann.lecun.com/exdb/mnist/t10k-labels-idx1-ubyte.gz\n",
            "Failed to download (trying next):\n",
            "HTTP Error 503: Service Unavailable\n",
            "\n",
            "Downloading https://ossci-datasets.s3.amazonaws.com/mnist/t10k-labels-idx1-ubyte.gz\n",
            "Downloading https://ossci-datasets.s3.amazonaws.com/mnist/t10k-labels-idx1-ubyte.gz to ./data/MNIST/raw/t10k-labels-idx1-ubyte.gz\n"
          ],
          "name": "stdout"
        },
        {
          "output_type": "display_data",
          "data": {
            "application/vnd.jupyter.widget-view+json": {
              "model_id": "e2262030788a4bdc95bbbc75b06514ca",
              "version_minor": 0,
              "version_major": 2
            },
            "text/plain": [
              "HBox(children=(FloatProgress(value=0.0, max=4542.0), HTML(value='')))"
            ]
          },
          "metadata": {
            "tags": []
          }
        },
        {
          "output_type": "stream",
          "text": [
            "\n",
            "Extracting ./data/MNIST/raw/t10k-labels-idx1-ubyte.gz to ./data/MNIST/raw\n",
            "\n",
            "Processing...\n",
            "Done!\n"
          ],
          "name": "stdout"
        },
        {
          "output_type": "stream",
          "text": [
            "/usr/local/lib/python3.7/dist-packages/torchvision/datasets/mnist.py:502: UserWarning: The given NumPy array is not writeable, and PyTorch does not support non-writeable tensors. This means you can write to the underlying (supposedly non-writeable) NumPy array using the tensor. You may want to copy the array to protect its data or make it writeable before converting it to a tensor. This type of warning will be suppressed for the rest of this program. (Triggered internally at  /pytorch/torch/csrc/utils/tensor_numpy.cpp:143.)\n",
            "  return torch.from_numpy(parsed.astype(m[2], copy=False)).view(*s)\n"
          ],
          "name": "stderr"
        },
        {
          "output_type": "stream",
          "text": [
            "Downloading http://yann.lecun.com/exdb/mnist/train-images-idx3-ubyte.gz\n",
            "Failed to download (trying next):\n",
            "HTTP Error 503: Service Unavailable\n",
            "\n",
            "Downloading https://ossci-datasets.s3.amazonaws.com/mnist/train-images-idx3-ubyte.gz\n",
            "Downloading https://ossci-datasets.s3.amazonaws.com/mnist/train-images-idx3-ubyte.gz to ./MNIST/raw/train-images-idx3-ubyte.gz\n"
          ],
          "name": "stdout"
        },
        {
          "output_type": "display_data",
          "data": {
            "application/vnd.jupyter.widget-view+json": {
              "model_id": "65cb8eaf59ac4e0ab59b43d85688a0c0",
              "version_minor": 0,
              "version_major": 2
            },
            "text/plain": [
              "HBox(children=(FloatProgress(value=0.0, max=9912422.0), HTML(value='')))"
            ]
          },
          "metadata": {
            "tags": []
          }
        },
        {
          "output_type": "stream",
          "text": [
            "\n",
            "Extracting ./MNIST/raw/train-images-idx3-ubyte.gz to ./MNIST/raw\n",
            "\n",
            "Downloading http://yann.lecun.com/exdb/mnist/train-labels-idx1-ubyte.gz\n",
            "Downloading http://yann.lecun.com/exdb/mnist/train-labels-idx1-ubyte.gz to ./MNIST/raw/train-labels-idx1-ubyte.gz\n"
          ],
          "name": "stdout"
        },
        {
          "output_type": "display_data",
          "data": {
            "application/vnd.jupyter.widget-view+json": {
              "model_id": "ffff8455b3174205968f86bca1b10f84",
              "version_minor": 0,
              "version_major": 2
            },
            "text/plain": [
              "HBox(children=(FloatProgress(value=0.0, max=28881.0), HTML(value='')))"
            ]
          },
          "metadata": {
            "tags": []
          }
        },
        {
          "output_type": "stream",
          "text": [
            "\n",
            "Extracting ./MNIST/raw/train-labels-idx1-ubyte.gz to ./MNIST/raw\n",
            "\n",
            "Downloading http://yann.lecun.com/exdb/mnist/t10k-images-idx3-ubyte.gz\n",
            "Downloading http://yann.lecun.com/exdb/mnist/t10k-images-idx3-ubyte.gz to ./MNIST/raw/t10k-images-idx3-ubyte.gz\n",
            "Failed to download (trying next):\n",
            "HTTP Error 503: Service Unavailable\n",
            "\n",
            "Downloading https://ossci-datasets.s3.amazonaws.com/mnist/t10k-images-idx3-ubyte.gz\n",
            "Downloading https://ossci-datasets.s3.amazonaws.com/mnist/t10k-images-idx3-ubyte.gz to ./MNIST/raw/t10k-images-idx3-ubyte.gz\n"
          ],
          "name": "stdout"
        },
        {
          "output_type": "display_data",
          "data": {
            "application/vnd.jupyter.widget-view+json": {
              "model_id": "0fe46ccdc25d4102b259126d62d8f612",
              "version_minor": 0,
              "version_major": 2
            },
            "text/plain": [
              "HBox(children=(FloatProgress(value=0.0, max=1648877.0), HTML(value='')))"
            ]
          },
          "metadata": {
            "tags": []
          }
        },
        {
          "output_type": "stream",
          "text": [
            "\n",
            "Extracting ./MNIST/raw/t10k-images-idx3-ubyte.gz to ./MNIST/raw\n",
            "\n",
            "Downloading http://yann.lecun.com/exdb/mnist/t10k-labels-idx1-ubyte.gz\n",
            "Failed to download (trying next):\n",
            "HTTP Error 503: Service Unavailable\n",
            "\n",
            "Downloading https://ossci-datasets.s3.amazonaws.com/mnist/t10k-labels-idx1-ubyte.gz\n",
            "Downloading https://ossci-datasets.s3.amazonaws.com/mnist/t10k-labels-idx1-ubyte.gz to ./MNIST/raw/t10k-labels-idx1-ubyte.gz\n"
          ],
          "name": "stdout"
        },
        {
          "output_type": "display_data",
          "data": {
            "application/vnd.jupyter.widget-view+json": {
              "model_id": "3cd28f5b4d274574b772e89db7f164ce",
              "version_minor": 0,
              "version_major": 2
            },
            "text/plain": [
              "HBox(children=(FloatProgress(value=0.0, max=4542.0), HTML(value='')))"
            ]
          },
          "metadata": {
            "tags": []
          }
        },
        {
          "output_type": "stream",
          "text": [
            "\n",
            "Extracting ./MNIST/raw/t10k-labels-idx1-ubyte.gz to ./MNIST/raw\n",
            "\n",
            "Processing...\n",
            "Done!\n",
            "torch.Size([64, 1, 28, 28])\n",
            "torch.Size([64])\n"
          ],
          "name": "stdout"
        },
        {
          "output_type": "execute_result",
          "data": {
            "text/plain": [
              "<matplotlib.image.AxesImage at 0x7f6ffce48a50>"
            ]
          },
          "metadata": {
            "tags": []
          },
          "execution_count": 1
        },
        {
          "output_type": "display_data",
          "data": {
            "image/png": "[encoded data removed]",
            "text/plain": [
              "<Figure size 432x288 with 1 Axes>"
            ]
          },
          "metadata": {
            "tags": [],
            "needs_background": "light"
          }
        }
      ]
    },
    {
      "cell_type": "code",
      "metadata": {
        "id": "WDWmC4Zmx33-"
      },
      "source": [
        "class Network(nn.Module):\n",
        "    def __init__(self):\n",
        "        super().__init__()\n",
        "        self.conv1 = nn.Conv2d(in_channels=1, out_channels=16, kernel_size=3, padding=1)\n",
        "        self.conv2 = nn.Conv2d(in_channels=16, out_channels=8, kernel_size=3, padding=1)\n",
        "        self.conv3 = nn.Conv2d(in_channels=8, out_channels=8, kernel_size=3, padding=2)\n",
        "\n",
        "        self.fc1 = nn.Linear(in_features=8*4*4, out_features=120)\n",
        "        self.fc2 = nn.Linear(in_features=120, out_features=60)\n",
        "        self.out = nn.Linear(in_features=60, out_features=10)\n",
        "\n",
        "    def forward(self, t):\n",
        "        # print(len(t),len(t[0]),len(t[0][0]),len(t[0][0][0]))\n",
        "        # (1) hidden conv layer\n",
        "        t = torch.fft.fft(t).abs()\n",
        "        t1 = self.conv1(t)\n",
        "        t1 = F.relu(t1)\n",
        "        t1 = F.max_pool2d(t1, kernel_size=2, stride=2)\n",
        "        # print(len(t),len(t[0]),len(t[0][0]),len(t[0][0][0]))\n",
        "\n",
        "        # (2) hidden conv layer\n",
        "        t2 = self.conv2(t1)\n",
        "        t2 = F.relu(t2)\n",
        "        t2 = F.max_pool2d(t2, kernel_size=2, stride=2)\n",
        "        # print(len(t),len(t[0]),len(t[0][0]),len(t[0][0][0]))\n",
        "\n",
        "        # (3) hidden conv layer\n",
        "        t3 = self.conv3(t2)\n",
        "        t3 = F.relu(t3)\n",
        "        t3 = F.max_pool2d(t3, kernel_size=2, stride=2)\n",
        "        # print(len(t),len(t[0]),len(t[0][0]),len(t[0][0][0]))\n",
        "\n",
        "        # (4) hidden linear layer\n",
        "        t = t3.reshape(-1, 8 * 4 * 4)\n",
        "        t = self.fc1(t)\n",
        "        t = F.relu(t)\n",
        "        # print(len(t),len(t[0]))\n",
        "\n",
        "        # (5) hidden linear layer\n",
        "        t = self.fc2(t)\n",
        "        t = F.relu(t)\n",
        "\n",
        "        # (6) output layer\n",
        "        t = self.out(t)\n",
        "        # t = F.softmax(t, dim=1)\n",
        "        # print(len(t),len(t[0]))\n",
        "\n",
        "\n",
        "        return [t,t1,t2,t3]\n",
        "\n"
      ],
      "execution_count": null,
      "outputs": []
    },
    {
      "cell_type": "code",
      "metadata": {
        "id": "itIOmNSWtH7C"
      },
      "source": [
        "model = Network()\n",
        "optimizer = optim.Adam(model.parameters(), lr=0.005)\n",
        "criterion = nn.CrossEntropyLoss()\n",
        "if torch.cuda.is_available():\n",
        "    model = model.cuda()\n",
        "    criterion = criterion.cuda()"
      ],
      "execution_count": null,
      "outputs": []
    },
    {
      "cell_type": "code",
      "metadata": {
        "id": "RVrBwaxBuhA7",
        "colab": {
          "base_uri": "https://localhost:8080/"
        },
        "outputId": "c834416c-8bbb-42df-d4ef-aa326d17927e"
      },
      "source": [
        "from torchsummary import summary\n",
        "print(model)\n",
        "print(summary(model, (1,28,28)))"
      ],
      "execution_count": null,
      "outputs": [
        {
          "output_type": "stream",
          "text": [
            "Network(\n",
            "  (conv1): Conv2d(1, 16, kernel_size=(3, 3), stride=(1, 1), padding=(1, 1))\n",
            "  (conv2): Conv2d(16, 8, kernel_size=(3, 3), stride=(1, 1), padding=(1, 1))\n",
            "  (conv3): Conv2d(8, 8, kernel_size=(3, 3), stride=(1, 1), padding=(2, 2))\n",
            "  (fc1): Linear(in_features=128, out_features=120, bias=True)\n",
            "  (fc2): Linear(in_features=120, out_features=60, bias=True)\n",
            "  (out): Linear(in_features=60, out_features=10, bias=True)\n",
            ")\n",
            "----------------------------------------------------------------\n",
            "        Layer (type)               Output Shape         Param #\n",
            "================================================================\n",
            "            Conv2d-1           [-1, 16, 28, 28]             160\n",
            "            Conv2d-2            [-1, 8, 14, 14]           1,160\n",
            "            Conv2d-3              [-1, 8, 9, 9]             584\n",
            "            Linear-4                  [-1, 120]          15,480\n",
            "            Linear-5                   [-1, 60]           7,260\n",
            "            Linear-6                   [-1, 10]             610\n",
            "================================================================\n",
            "Total params: 25,254\n",
            "Trainable params: 25,254\n",
            "Non-trainable params: 0\n",
            "----------------------------------------------------------------\n",
            "Input size (MB): 0.00\n",
            "Forward/backward pass size (MB): 0.11\n",
            "Params size (MB): 0.10\n",
            "Estimated Total Size (MB): 0.21\n",
            "----------------------------------------------------------------\n",
            "None\n"
          ],
          "name": "stdout"
        }
      ]
    },
    {
      "cell_type": "code",
      "metadata": {
        "colab": {
          "base_uri": "https://localhost:8080/"
        },
        "id": "ShheGtUtPAHg",
        "outputId": "04870e8a-a6a4-4d89-cb14-266e57d74c3a"
      },
      "source": [
        "for i in range(15):\n",
        "    running_loss = 0\n",
        "    for images, labels in trainloader:\n",
        "\n",
        "        if torch.cuda.is_available():\n",
        "          images = images.cuda()\n",
        "          labels = labels.cuda()\n",
        "\n",
        "        # Training pass\n",
        "        optimizer.zero_grad()\n",
        "        \n",
        "        output = model(images)\n",
        "        # print(output)\n",
        "        # print(labels)\n",
        "        loss = criterion(output[0], labels)\n",
        "        \n",
        "        #This is where the model learns by backpropagating\n",
        "        loss.backward()\n",
        "        \n",
        "        #And optimizes its weights here\n",
        "        optimizer.step()\n",
        "        \n",
        "        running_loss += loss.item()\n",
        "        \n",
        "    else:\n",
        "        print(\"Epoch {} - Training loss: {}\".format(i+1, running_loss/len(trainloader)))"
      ],
      "execution_count": null,
      "outputs": [
        {
          "output_type": "stream",
          "text": [
            "Epoch 1 - Training loss: 0.4072006664900129\n",
            "Epoch 2 - Training loss: 0.2426529287465854\n",
            "Epoch 3 - Training loss: 0.226405136148209\n",
            "Epoch 4 - Training loss: 0.2151924658026586\n",
            "Epoch 5 - Training loss: 0.209053886871634\n",
            "Epoch 6 - Training loss: 0.2042754194689299\n",
            "Epoch 7 - Training loss: 0.1982827767638414\n",
            "Epoch 8 - Training loss: 0.1985171454738198\n",
            "Epoch 9 - Training loss: 0.1982226503262324\n",
            "Epoch 10 - Training loss: 0.1957190694815632\n",
            "Epoch 11 - Training loss: 0.192047127816421\n",
            "Epoch 12 - Training loss: 0.1890201755801339\n",
            "Epoch 13 - Training loss: 0.18956470021259175\n",
            "Epoch 14 - Training loss: 0.19184631350110654\n",
            "Epoch 15 - Training loss: 0.18261174434847605\n"
          ],
          "name": "stdout"
        }
      ]
    },
    {
      "cell_type": "code",
      "metadata": {
        "colab": {
          "base_uri": "https://localhost:8080/"
        },
        "id": "wmkWHGZDtQBY",
        "outputId": "bc1016f3-4fe1-4696-df48-7deff2e89ded"
      },
      "source": [
        " # getting predictions on test set and measuring the performance\n",
        "\n",
        "correct_count, all_count = 0, 0\n",
        "for images,labels in trainloader:\n",
        "  for i in range(len(labels)):\n",
        "    if torch.cuda.is_available():\n",
        "        images = images.cuda()\n",
        "        labels = labels.cuda()\n",
        "    img = images[i].view(1, 1, 28, 28)\n",
        "    with torch.no_grad():\n",
        "        logps = model(img)\n",
        "\n",
        "    \n",
        "    ps = torch.exp(logps[0])\n",
        "    probab = list(ps.cpu()[0])\n",
        "    pred_label = probab.index(max(probab))\n",
        "    true_label = labels.cpu()[i]\n",
        "    if(true_label == pred_label):\n",
        "      correct_count += 1\n",
        "    all_count += 1\n",
        "\n",
        "print(\"Number Of Images Tested =\", all_count)\n",
        "print(\"\\nModel Training Accuracy =\", (correct_count/all_count))\n",
        "\n",
        "\n",
        "correct_count, all_count = 0, 0\n",
        "for images,labels in testloader:\n",
        "  for i in range(len(labels)):\n",
        "    if torch.cuda.is_available():\n",
        "        images = images.cuda()\n",
        "        labels = labels.cuda()\n",
        "    img = images[i].view(1, 1, 28, 28)\n",
        "    with torch.no_grad():\n",
        "        logps = model(img)\n",
        "\n",
        "    \n",
        "    ps = torch.exp(logps[0])\n",
        "    probab = list(ps.cpu()[0])\n",
        "    pred_label = probab.index(max(probab))\n",
        "    true_label = labels.cpu()[i]\n",
        "    if(true_label == pred_label):\n",
        "      correct_count += 1\n",
        "    all_count += 1\n",
        "\n",
        "print(\"Number Of Images Tested =\", all_count)\n",
        "print(\"\\nModel Accuracy =\", (correct_count/all_count))\n",
        "# 0.9389 with relu , loss = 0.036\n",
        "# 0.9228 , loss = 0.274\n",
        "# 0.9286 , loss = 0.071\n",
        "\n",
        "# 0.9536, 0.9531 with relu , l = 0.038\n",
        "# 0.9698, 0.9696 0.5relu , l = 0.197\n",
        "# 0.9266, 0.9245, l = 0.275\n",
        "\n",
        "# Ae+mlp relu 0.965\n",
        "# Ae+mlp with silu Model Training Accuracy = 0.9873  Model Accuracy = 0.9853"
      ],
      "execution_count": null,
      "outputs": [
        {
          "output_type": "stream",
          "text": [
            "Number Of Images Tested = 60000\n",
            "\n",
            "Model Training Accuracy = 0.9450333333333333\n",
            "Number Of Images Tested = 10000\n",
            "\n",
            "Model Accuracy = 0.9408\n"
          ],
          "name": "stdout"
        }
      ]
    },
    {
      "cell_type": "code",
      "metadata": {
        "id": "KESQvAS0o3_M"
      },
      "source": [],
      "execution_count": null,
      "outputs": []
    },
    {
      "cell_type": "code",
      "metadata": {
        "id": "EMnIyxKptAYa"
      },
      "source": [
        "#Define the Convolutional Autoencoder\n",
        "class ConvAutoencoder1(nn.Module):\n",
        "    def __init__(self, inp, kern):\n",
        "        super(ConvAutoencoder1, self).__init__()\n",
        "        self.inp = inp\n",
        "        #Encoder\n",
        "        self.conv1 = nn.Conv2d(self.inp, 16, 3, padding=1)  \n",
        "        self.conv2 = nn.Conv2d(16, 8, 3, padding=1)\n",
        "        self.conv3 = nn.Conv2d(8, 4, 3, padding=1)\n",
        "        self.pool = nn.MaxPool2d(2, 2)\n",
        "       \n",
        "        #Decoder\n",
        "        self.t_conv1 = nn.ConvTranspose2d(4, 8, 3, stride=2)\n",
        "        self.t_conv2 = nn.ConvTranspose2d(8, 16, 3, stride=2)\n",
        "        self.t_conv3 = nn.ConvTranspose2d(16, self.inp, kern, stride=2)\n",
        "\n",
        "\n",
        "    def forward(self, x):\n",
        "        x = F.relu(self.conv1(x))\n",
        "        x = self.pool(x)\n",
        "        # print('a',len(output), len(output[0]), len(output[0][0]), len(output[0][0][0]))\n",
        "        # print('b11',len(x), len(x[0]), len(x[0][0]), len(x[0][0][0]))\n",
        "        x = F.relu(self.conv2(x))\n",
        "        x = self.pool(x)\n",
        "        # print('b12',len(x), len(x[0]), len(x[0][0]), len(x[0][0][0]))\n",
        "        x = F.relu(self.conv3(x))\n",
        "        x1 = self.pool(x)\n",
        "        # print('b13',len(x), len(x[0]), len(x[0][0]), len(x[0][0][0]))\n",
        "        x = F.relu(self.t_conv1(x1))\n",
        "        # print('b14',len(x), len(x[0]), len(x[0][0]), len(x[0][0][0]))\n",
        "        x = F.relu(self.t_conv2(x))\n",
        "        # print('b15',len(x), len(x[0]), len(x[0][0]), len(x[0][0][0]))\n",
        "        x = self.t_conv3(x)\n",
        "        return x,(x1)"
      ],
      "execution_count": null,
      "outputs": []
    },
    {
      "cell_type": "code",
      "metadata": {
        "id": "_4EzIFd3lID7"
      },
      "source": [
        "model_mid1 = ConvAutoencoder1(16,2)\n",
        "optimizer = optim.Adam(model_mid1.parameters(), lr=0.001)\n",
        "criterion = nn.MSELoss()\n",
        "if torch.cuda.is_available():\n",
        "    model_mid1 = model_mid1.cuda()\n",
        "    criterion = criterion.cuda()"
      ],
      "execution_count": null,
      "outputs": []
    },
    {
      "cell_type": "code",
      "metadata": {
        "colab": {
          "base_uri": "https://localhost:8080/"
        },
        "id": "BLfgErYLlD8U",
        "outputId": "73370c03-d86d-4e43-fea7-c8a225548b6e"
      },
      "source": [
        "\n",
        "\n",
        "for i in range(15):\n",
        "    running_loss = 0\n",
        "    for images, labels in trainloader:\n",
        "\n",
        "        if torch.cuda.is_available():\n",
        "          images = images.cuda()\n",
        "          labels = labels.cuda()\n",
        "\n",
        "        # reference = torch.zeros_like(images)\n",
        "        # print(len(reference), len(reference[0]), len(reference[0][0]), len(reference[0][0][0]))\n",
        "        \n",
        "        # Training pass\n",
        "        optimizer.zero_grad()\n",
        "        \n",
        "        output1 = model(images)\n",
        "        # print('a',len(output), len(output[0]), len(output[0][0]), len(output[0][0][0]))\n",
        "        # print('b',len(output1[1]), len(output1[1][0]), len(output1[1][0][0]), len(output1[1][0][0]))\n",
        "        output,_ = model_mid1(output1[1])\n",
        "        # print(output)\n",
        "        # print(labels)\n",
        "        # print('a',len(output), len(output[0]), len(output[0][0]), len(output[0][0][0]))\n",
        "        # print('b',len(output1[1]), len(output1[1][0]), len(output1[1][0][0]), len(output1[1][0][0]))\n",
        "        # break\n",
        "        loss = criterion(output1[1], output)\n",
        "        \n",
        "        #This is where the model learns by backpropagating\n",
        "        loss.backward()\n",
        "        \n",
        "        #And optimizes its weights here\n",
        "        optimizer.step()\n",
        "        \n",
        "        running_loss += loss.item()\n",
        "    else:\n",
        "        print(\"Epoch {} - Training loss: {}\".format(i+1, running_loss/len(trainloader)))\n",
        "    "
      ],
      "execution_count": null,
      "outputs": [
        {
          "output_type": "stream",
          "text": [
            "Epoch 1 - Training loss: 1.0750378874827549\n",
            "Epoch 2 - Training loss: 0.6005953200526838\n",
            "Epoch 3 - Training loss: 0.5641562914225593\n",
            "Epoch 4 - Training loss: 0.5564299388480848\n",
            "Epoch 5 - Training loss: 0.5528592297962225\n",
            "Epoch 6 - Training loss: 0.5501957884602455\n",
            "Epoch 7 - Training loss: 0.5485219788640293\n",
            "Epoch 8 - Training loss: 0.5468163243743148\n",
            "Epoch 9 - Training loss: 0.5446579033123659\n",
            "Epoch 10 - Training loss: 0.5427331988936039\n",
            "Epoch 11 - Training loss: 0.5406140072195769\n",
            "Epoch 12 - Training loss: 0.539119493510169\n",
            "Epoch 13 - Training loss: 0.5371171716116131\n",
            "Epoch 14 - Training loss: 0.5358096935601631\n",
            "Epoch 15 - Training loss: 0.5348255431918956\n"
          ],
          "name": "stdout"
        }
      ]
    },
    {
      "cell_type": "code",
      "metadata": {
        "id": "NTVjb4wkdbmT"
      },
      "source": [
        "error=[]\n",
        "l_norm=[]\n",
        "device='cuda'\n",
        "for X,y in testloader:\n",
        "    X,y = X.to(device), y.to(device)\n",
        "    for i in range(len(X)):\n",
        "        # true = y[i]\n",
        "        t=model((X[i]).reshape(1,1,28,28))\n",
        "        t1,t2 = model_mid1(t[1])\n",
        "        l_norm.append(torch.norm(t2).detach().cpu())\n",
        "        error.append(nn.MSELoss()(t1,t[1]).detach().cpu())"
      ],
      "execution_count": null,
      "outputs": []
    },
    {
      "cell_type": "code",
      "metadata": {
        "colab": {
          "base_uri": "https://localhost:8080/",
          "height": 265
        },
        "id": "duaI8Zdmd1Xy",
        "outputId": "64021969-4835-4298-d0ca-96d910ae7b73"
      },
      "source": [
        "plt.scatter(error,l_norm)\n",
        "plt.show()"
      ],
      "execution_count": null,
      "outputs": [
        {
          "output_type": "display_data",
          "data": {
            "image/png": "[encoded data removed]",
            "text/plain": [
              "<Figure size 432x288 with 1 Axes>"
            ]
          },
          "metadata": {
            "tags": [],
            "needs_background": "light"
          }
        }
      ]
    },
    {
      "cell_type": "code",
      "metadata": {
        "id": "4cP566f0Hoj9"
      },
      "source": [
        "#Define the Convolutional Autoencoder\n",
        "class ConvAutoencoder2(nn.Module):\n",
        "    def __init__(self):\n",
        "        super(ConvAutoencoder2, self).__init__()\n",
        "        #Encoder\n",
        "        self.conv1 = nn.Conv2d(8, 16, 3, padding=1)  \n",
        "        self.conv2 = nn.Conv2d(16, 16, 3, padding=1)\n",
        "        self.conv3 = nn.Conv2d(16, 16, 3, padding=1)\n",
        "        self.pool = nn.MaxPool2d(2, 2)\n",
        "       \n",
        "        #Decoder\n",
        "        self.t_conv1 = nn.ConvTranspose2d(16, 16, 3, stride=2)\n",
        "        self.t_conv2 = nn.ConvTranspose2d(16, 16, 3, stride=2)\n",
        "        self.t_conv3 = nn.ConvTranspose2d(16, 8, 3, stride=2)\n",
        "\n",
        "\n",
        "    def forward(self, x):\n",
        "        x = F.relu(self.conv1(x))\n",
        "        x = self.pool(x)\n",
        "        # print('a',len(output), len(output[0]), len(output[0][0]), len(output[0][0][0]))\n",
        "        # print('b11',len(x), len(x[0]), len(x[0][0]), len(x[0][0][0]))\n",
        "        x = F.relu(self.conv2(x))\n",
        "        # x = self.pool(x)\n",
        "        # print('b12',len(x), len(x[0]), len(x[0][0]), len(x[0][0][0]))\n",
        "        x = F.relu(self.conv3(x))\n",
        "        x1 = self.pool(x)\n",
        "        # print('b13',len(x1), len(x1[0]), len(x1[0][0]), len(x1[0][0][0]))\n",
        "        x = F.relu(self.t_conv1(x1))\n",
        "        # print('b14',len(x), len(x[0]), len(x[0][0]), len(x[0][0][0]))\n",
        "        x = (F.relu(self.t_conv2(x)))\n",
        "        # print('b15',len(x), len(x[0]), len(x[0][0]), len(x[0][0][0]))\n",
        "        x = self.t_conv3(x)\n",
        "        x = self.pool(x)\n",
        "        return x,x1"
      ],
      "execution_count": null,
      "outputs": []
    },
    {
      "cell_type": "code",
      "metadata": {
        "id": "cpETF6PslDzA"
      },
      "source": [
        "model_mid2 = ConvAutoencoder2()\n",
        "optimizer = optim.Adam(model_mid2.parameters(), lr=0.005)\n",
        "criterion = nn.MSELoss()\n",
        "if torch.cuda.is_available():\n",
        "    model_mid2 = model_mid2.cuda()\n",
        "    criterion = criterion.cuda()"
      ],
      "execution_count": null,
      "outputs": []
    },
    {
      "cell_type": "code",
      "metadata": {
        "colab": {
          "base_uri": "https://localhost:8080/"
        },
        "id": "NdGlg3B42BzA",
        "outputId": "d8268266-e6ef-4ee8-ed63-69eac878ca46"
      },
      "source": [
        "\n",
        "\n",
        "for i in range(20):\n",
        "    running_loss = 0\n",
        "    for images, labels in trainloader:\n",
        "\n",
        "        if torch.cuda.is_available():\n",
        "          images = images.cuda()\n",
        "          labels = labels.cuda()\n",
        "\n",
        "        # reference = torch.zeros_like(images)\n",
        "        # print(len(reference), len(reference[0]), len(reference[0][0]), len(reference[0][0][0]))\n",
        "        \n",
        "        # Training pass\n",
        "        optimizer.zero_grad()\n",
        "        \n",
        "        output1 = model(images)\n",
        "        output,_ = model_mid2(output1[2])\n",
        "        # print(output)\n",
        "        # print(labels)\n",
        "        # print('a',len(output), len(output[0]), len(output[0][0]), len(output[0][0][0]))\n",
        "        # print('b',len(output1[2]), len(output1[2][0]), len(output1[2][0][0]), len(output1[2][0][0]))\n",
        "        # break\n",
        "        loss = criterion(output1[2], output)\n",
        "        \n",
        "        #This is where the model learns by backpropagating\n",
        "        loss.backward()\n",
        "        \n",
        "        #And optimizes its weights here\n",
        "        optimizer.step()\n",
        "        \n",
        "        running_loss += loss.item()\n",
        "    else:\n",
        "        print(\"Epoch {} - Training loss: {}\".format(i+1, running_loss/len(trainloader)))\n",
        "    "
      ],
      "execution_count": null,
      "outputs": [
        {
          "output_type": "stream",
          "text": [
            "Epoch 1 - Training loss: 2.696235087253392\n",
            "Epoch 2 - Training loss: 1.2660611470116736\n",
            "Epoch 3 - Training loss: 1.1610631553857311\n",
            "Epoch 4 - Training loss: 1.1150025166173987\n",
            "Epoch 5 - Training loss: 1.0859133439150446\n",
            "Epoch 6 - Training loss: 1.0620145242986903\n",
            "Epoch 7 - Training loss: 1.0478407168057935\n",
            "Epoch 8 - Training loss: 1.0353034723923404\n",
            "Epoch 9 - Training loss: 1.0264559485383633\n",
            "Epoch 10 - Training loss: 1.0178980503255115\n",
            "Epoch 11 - Training loss: 1.0091688890955341\n",
            "Epoch 12 - Training loss: 1.0034022049100668\n",
            "Epoch 13 - Training loss: 0.9983989050520509\n",
            "Epoch 14 - Training loss: 0.9895619898081334\n",
            "Epoch 15 - Training loss: 0.9847861744447558\n",
            "Epoch 16 - Training loss: 0.9799591586279717\n",
            "Epoch 17 - Training loss: 0.9752184617748139\n",
            "Epoch 18 - Training loss: 0.9702600984176847\n",
            "Epoch 19 - Training loss: 0.9693899927998403\n",
            "Epoch 20 - Training loss: 0.9660112663372747\n"
          ],
          "name": "stdout"
        }
      ]
    },
    {
      "cell_type": "code",
      "metadata": {
        "id": "IPOMzaNj2BrY"
      },
      "source": [],
      "execution_count": null,
      "outputs": []
    },
    {
      "cell_type": "code",
      "metadata": {
        "id": "mOqKoDF92Boa"
      },
      "source": [],
      "execution_count": null,
      "outputs": []
    },
    {
      "cell_type": "code",
      "metadata": {
        "id": "o0xWCprAdWS0"
      },
      "source": [],
      "execution_count": null,
      "outputs": []
    },
    {
      "cell_type": "code",
      "metadata": {
        "id": "rtKhb-z6dWH0"
      },
      "source": [],
      "execution_count": null,
      "outputs": []
    },
    {
      "cell_type": "code",
      "metadata": {
        "id": "NQEozxM9TcpA"
      },
      "source": [
        "def fgsm(model, X, y, epsilon):\n",
        "    \"\"\" Construct FGSM adversarial examples on the examples X\"\"\"\n",
        "    delta = torch.zeros_like(X, requires_grad=True)\n",
        "    loss = nn.CrossEntropyLoss()(model(X + delta)[0], y)\n",
        "    loss.backward()\n",
        "    return epsilon * delta.grad.detach().sign()\n",
        "\n",
        "def plot_images(X,y,yp,M,N):\n",
        "    f,ax = plt.subplots(M,N, sharex=True, sharey=True, figsize=(N,M*1.3))\n",
        "    for i in range(M):\n",
        "        for j in range(N):\n",
        "            ax[i][j].imshow(1-X[i*N+j][0].cpu().numpy(), cmap=\"gray\")\n",
        "            title = ax[i][j].set_title(\"Pred: {}\".format(yp[i*N+j]))\n",
        "            plt.setp(title, color=('g' if yp[i*N+j] == y[i*N+j] else 'r'))\n",
        "            ax[i][j].set_axis_off()\n",
        "    plt.tight_layout()\n"
      ],
      "execution_count": null,
      "outputs": []
    },
    {
      "cell_type": "code",
      "metadata": {
        "colab": {
          "base_uri": "https://localhost:8080/"
        },
        "id": "mxtmYPlCtnlc",
        "outputId": "9487d931-1039-4553-d879-e2193290f5d9"
      },
      "source": [
        "res = np.array([0,0,0,0])\n",
        "correct_model2 = 0\n",
        "adversaries = 0\n",
        "nonadv = 0\n",
        "abc1=[]\n",
        "abc2=[]\n",
        "abc3=[]\n",
        "abc4=[]\n",
        "for X,y in testloader:\n",
        "    X,y = X.to(device), y.to(device)\n",
        "    delta = fgsm(model, X, y, 0.1)\n",
        "    for i in range(len(X)):\n",
        "        # t1,t2=model((X[i]).reshape(1,1,28,28))\n",
        "        # a = torch.argmax(t1).item()\n",
        "        true = y[i]\n",
        "        # print('ori', a )\n",
        "        t1=model((X[i]+delta[i]).reshape(1,1,28,28))\n",
        "        b = torch.argmax(t1[0]).item()\n",
        "        # print('adv', b )\n",
        "        # print(len(ref[0]),len(ref[0][0]),len(ref[0][0][0]),)\n",
        "        # print(len(out),len(out[0]),len(out[0][0]),)\n",
        "        # losses = np.array([nn.MSELoss()(ref[j].reshape(1,1,28,28),out) for j in range(len(ref))])\n",
        "        # print(losses)\n",
        "        # break\n",
        "        # c = np.argmin(losses)\n",
        "\n",
        "        # t1,t2=model(out.reshape(1,1,28,28))\n",
        "        # c = torch.argmax(t1).item()\n",
        "        # print('dec', c )\n",
        "        # print('\\n')\n",
        "        if(true!=b):\n",
        "            adversaries+=1\n",
        "            t2,t3=model_mid1(t1[1])\n",
        "            abc1.append(nn.MSELoss()(t2,t1[1]).detach().cpu())\n",
        "            abc2.append(torch.norm(t3).detach().cpu())\n",
        "        else:\n",
        "            t2,t3=model_mid1(t1[1])\n",
        "            abc3.append(nn.MSELoss()(t2,t1[1]).detach().cpu())\n",
        "            abc4.append(torch.norm(t3).detach().cpu())\n",
        "#                 res[0]+=1\n",
        "#             else:\n",
        "#                 res[1]+=1\n",
        "#         else:\n",
        "#             adversaries+=1\n",
        "#             if(true==c):\n",
        "#                 correct_model2+=1\n",
        "#             if(b==c):\n",
        "#                 res[2]+=1\n",
        "#             else:\n",
        "#                 res[3]+=1\n",
        "# print(res, correct_model2, adversaries, nonadv)\n",
        "'''0 - correct guess by both models \n",
        "1 - correct by model1 but wrong by model2 \n",
        "2 - wrong by model1 but correct by model2 \n",
        "3 - wrong by both models'''\n",
        "print(adversaries)"
      ],
      "execution_count": null,
      "outputs": [
        {
          "output_type": "stream",
          "text": [
            "3531\n"
          ],
          "name": "stdout"
        }
      ]
    },
    {
      "cell_type": "code",
      "metadata": {
        "id": "43tySjP7rNMq"
      },
      "source": [],
      "execution_count": null,
      "outputs": []
    },
    {
      "cell_type": "code",
      "metadata": {
        "colab": {
          "base_uri": "https://localhost:8080/",
          "height": 279
        },
        "id": "YpJlD6Z3nsJ1",
        "outputId": "ec4e8cdf-ba58-4972-c632-364674f596c2"
      },
      "source": [
        "# plt.scatter(error,l_norm)\n",
        "plt.scatter(abc1,abc2, color='red',s=1)\n",
        "plt.scatter(abc3,abc4, color='green',s=1)\n",
        "plt.xlabel('Reconstruction error')\n",
        "plt.ylabel('Latent Norm')\n",
        "plt.legend(['Normal examples', 'Adversarial examples'])\n",
        "plt.show()"
      ],
      "execution_count": null,
      "outputs": [
        {
          "output_type": "display_data",
          "data": {
            "image/png": "[encoded data removed]",
            "text/plain": [
              "<Figure size 432x288 with 1 Axes>"
            ]
          },
          "metadata": {
            "tags": [],
            "needs_background": "light"
          }
        }
      ]
    },
    {
      "cell_type": "code",
      "metadata": {
        "id": "olAql6xBlO_B"
      },
      "source": [
        "error2=[]\n",
        "l_norm2=[]\n",
        "device='cuda'\n",
        "for X,y in testloader:\n",
        "    X,y = X.to(device), y.to(device)\n",
        "    for i in range(len(X)):\n",
        "        # true = y[i]\n",
        "        t=model((X[i]).reshape(1,1,28,28))\n",
        "        t1,t2 = model_mid2(t[2])\n",
        "        l_norm2.append(torch.norm(t2).detach().cpu())\n",
        "        error2.append(nn.MSELoss()(t1,t[2]).detach().cpu())"
      ],
      "execution_count": null,
      "outputs": []
    },
    {
      "cell_type": "code",
      "metadata": {
        "colab": {
          "base_uri": "https://localhost:8080/"
        },
        "id": "RdVrng5KlOwl",
        "outputId": "b5f6dc44-c539-4347-d1fc-a05236397323"
      },
      "source": [
        "res = np.array([0,0,0,0])\n",
        "correct_model2 = 0\n",
        "adversaries = 0\n",
        "nonadv = 0\n",
        "abc1=[]\n",
        "abc2=[]\n",
        "abc3=[]\n",
        "abc4=[]\n",
        "for X,y in testloader:\n",
        "    X,y = X.to(device), y.to(device)\n",
        "    delta = fgsm(model, X, y, 0.1)\n",
        "    for i in range(len(X)):\n",
        "        # t1,t2=model((X[i]).reshape(1,1,28,28))\n",
        "        # a = torch.argmax(t1).item()\n",
        "        true = y[i]\n",
        "        # print('ori', a )\n",
        "        t1=model((X[i]+delta[i]).reshape(1,1,28,28))\n",
        "        b = torch.argmax(t1[0]).item()\n",
        "        # print('adv', b )\n",
        "        # print(len(ref[0]),len(ref[0][0]),len(ref[0][0][0]),)\n",
        "        # print(len(out),len(out[0]),len(out[0][0]),)\n",
        "        # losses = np.array([nn.MSELoss()(ref[j].reshape(1,1,28,28),out) for j in range(len(ref))])\n",
        "        # print(losses)\n",
        "        # break\n",
        "        # c = np.argmin(losses)\n",
        "\n",
        "        # t1,t2=model(out.reshape(1,1,28,28))\n",
        "        # c = torch.argmax(t1).item()\n",
        "        # print('dec', c )\n",
        "        # print('\\n')\n",
        "        if(true!=b):\n",
        "            adversaries+=1\n",
        "            t2,t3=model_mid2(t1[2])\n",
        "            abc1.append(nn.MSELoss()(t2,t1[2]).detach().cpu())\n",
        "            abc2.append(torch.norm(t3).detach().cpu())\n",
        "        else:\n",
        "            t2,t3=model_mid2(t1[2])\n",
        "            abc3.append(nn.MSELoss()(t2,t1[2]).detach().cpu())\n",
        "            abc4.append(torch.norm(t3).detach().cpu())\n",
        "#                 res[0]+=1\n",
        "#             else:\n",
        "#                 res[1]+=1\n",
        "#         else:\n",
        "#             adversaries+=1\n",
        "#             if(true==c):\n",
        "#                 correct_model2+=1\n",
        "#             if(b==c):\n",
        "#                 res[2]+=1\n",
        "#             else:\n",
        "#                 res[3]+=1\n",
        "# print(res, correct_model2, adversaries, nonadv)\n",
        "'''0 - correct guess by both models \n",
        "1 - correct by model1 but wrong by model2 \n",
        "2 - wrong by model1 but correct by model2 \n",
        "3 - wrong by both models'''\n",
        "print(adversaries)"
      ],
      "execution_count": null,
      "outputs": [
        {
          "output_type": "stream",
          "text": [
            "3531\n"
          ],
          "name": "stdout"
        }
      ]
    },
    {
      "cell_type": "code",
      "metadata": {
        "colab": {
          "base_uri": "https://localhost:8080/",
          "height": 279
        },
        "id": "FJ3kl8Rwla00",
        "outputId": "fab4e63b-b318-4478-884e-b3a94925501e"
      },
      "source": [
        "# plt.scatter(error2,l_norm2,s=1)\n",
        "plt.scatter(abc1,abc2, color='red', s=1)\n",
        "plt.scatter(abc3,abc4, color='green', s=1)\n",
        "plt.xlabel('Reconstruction error')\n",
        "plt.ylabel('Latent Norm')\n",
        "plt.legend(['Normal examples', 'Adversarial examples'])\n",
        "plt.show()"
      ],
      "execution_count": null,
      "outputs": [
        {
          "output_type": "display_data",
          "data": {
            "image/png": "[encoded data removed]",
            "text/plain": [
              "<Figure size 432x288 with 1 Axes>"
            ]
          },
          "metadata": {
            "tags": [],
            "needs_background": "light"
          }
        }
      ]
    },
    {
      "cell_type": "code",
      "metadata": {
        "id": "6ZorGspIv1w3"
      },
      "source": [],
      "execution_count": null,
      "outputs": []
    },
    {
      "cell_type": "code",
      "metadata": {
        "id": "yU6O9Wkiv1n8"
      },
      "source": [],
      "execution_count": null,
      "outputs": []
    },
    {
      "cell_type": "code",
      "metadata": {
        "id": "FxW4deThv1id"
      },
      "source": [],
      "execution_count": null,
      "outputs": []
    },
    {
      "cell_type": "code",
      "metadata": {
        "id": "KYxMtmYCv1Zs"
      },
      "source": [
        "#Define the Convolutional Autoencoder\n",
        "class ConvAutoencoder3(nn.Module):\n",
        "    def __init__(self):\n",
        "        super(ConvAutoencoder3, self).__init__()\n",
        "        #Encoder\n",
        "        self.conv1 = nn.Conv2d(8, 16, 3, padding=1)  \n",
        "        self.conv2 = nn.Conv2d(16, 16, 3, padding=1)\n",
        "        self.conv3 = nn.Conv2d(16, 16, 3, padding=1)\n",
        "        self.pool = nn.MaxPool2d(2, 2)\n",
        "       \n",
        "        #Decoder\n",
        "        self.t_conv1 = nn.ConvTranspose2d(16, 16, 2, stride=2)\n",
        "        self.t_conv2 = nn.ConvTranspose2d(16, 16, 2, stride=2)\n",
        "        self.t_conv3 = nn.ConvTranspose2d(16, 8, 2, stride=2)\n",
        "\n",
        "\n",
        "    def forward(self, x):\n",
        "        x = F.relu(self.conv1(x))\n",
        "        x = self.pool(x)\n",
        "        # print('a',len(output), len(output[0]), len(output[0][0]), len(output[0][0][0]))\n",
        "        # print('b11',len(x), len(x[0]), len(x[0][0]), len(x[0][0][0]))\n",
        "        x = F.relu(self.conv2(x))\n",
        "        # x = self.pool(x)\n",
        "        # print('b12',len(x), len(x[0]), len(x[0][0]), len(x[0][0][0]))\n",
        "        x = F.relu(self.conv3(x))\n",
        "        x1 = self.pool(x)\n",
        "        # print('b13',len(x1), len(x1[0]), len(x1[0][0]), len(x1[0][0][0]))\n",
        "        x = F.relu(self.t_conv1(x1))\n",
        "        # print('b14',len(x), len(x[0]), len(x[0][0]), len(x[0][0][0]))\n",
        "        x = (F.relu(self.t_conv2(x)))\n",
        "        # print('b15',len(x), len(x[0]), len(x[0][0]), len(x[0][0][0]))\n",
        "        x = self.t_conv3(x)\n",
        "        x = self.pool(x)\n",
        "        return x,x1"
      ],
      "execution_count": null,
      "outputs": []
    },
    {
      "cell_type": "code",
      "metadata": {
        "id": "VINBWtjiwO1L"
      },
      "source": [
        "model_mid3 = ConvAutoencoder3()\n",
        "optimizer = optim.Adam(model_mid3.parameters(), lr=0.001)\n",
        "criterion = nn.MSELoss()\n",
        "if torch.cuda.is_available():\n",
        "    model_mid3 = model_mid3.cuda()\n",
        "    criterion = criterion.cuda()"
      ],
      "execution_count": null,
      "outputs": []
    },
    {
      "cell_type": "code",
      "metadata": {
        "colab": {
          "base_uri": "https://localhost:8080/"
        },
        "id": "Lr68JdpSwUhH",
        "outputId": "a54775b5-e8ea-4799-d96c-9f9551b1a07e"
      },
      "source": [
        "\n",
        "\n",
        "for i in range(10):\n",
        "    running_loss = 0\n",
        "    for images, labels in trainloader:\n",
        "\n",
        "        if torch.cuda.is_available():\n",
        "          images = images.cuda()\n",
        "          labels = labels.cuda()\n",
        "\n",
        "        # reference = torch.zeros_like(images)\n",
        "        # print(len(reference), len(reference[0]), len(reference[0][0]), len(reference[0][0][0]))\n",
        "        \n",
        "        # Training pass\n",
        "        optimizer.zero_grad()\n",
        "        \n",
        "        output1 = model(images)\n",
        "        # print('a',len(output), len(output[0]), len(output[0][0]), len(output[0][0][0]))\n",
        "        # print('b',len(output1[1]), len(output1[1][0]), len(output1[1][0][0]), len(output1[1][0][0]))\n",
        "        output,_ = model_mid3(output1[3])\n",
        "        # print(output)\n",
        "        # print(labels)\n",
        "        # print('a',len(output), len(output[0]), len(output[0][0]), len(output[0][0][0]))\n",
        "        # print('b',len(output1[1]), len(output1[1][0]), len(output1[1][0][0]), len(output1[1][0][0]))\n",
        "        # break\n",
        "        loss = criterion(output1[3], output)\n",
        "        \n",
        "        #This is where the model learns by backpropagating\n",
        "        loss.backward()\n",
        "        \n",
        "        #And optimizes its weights here\n",
        "        optimizer.step()\n",
        "        \n",
        "        running_loss += loss.item()\n",
        "    else:\n",
        "        print(\"Epoch {} - Training loss: {}\".format(i+1, running_loss/len(trainloader)))\n",
        "    "
      ],
      "execution_count": null,
      "outputs": [
        {
          "output_type": "stream",
          "text": [
            "Epoch 1 - Training loss: 8.73646708998853\n",
            "Epoch 2 - Training loss: 4.4686254928869475\n",
            "Epoch 3 - Training loss: 3.525430502159509\n",
            "Epoch 4 - Training loss: 3.1470433641344244\n",
            "Epoch 5 - Training loss: 2.941738730300464\n",
            "Epoch 6 - Training loss: 2.798897464900637\n",
            "Epoch 7 - Training loss: 2.7034415817464086\n",
            "Epoch 8 - Training loss: 2.63562434899019\n",
            "Epoch 9 - Training loss: 2.5819985459862487\n",
            "Epoch 10 - Training loss: 2.5438334143746384\n"
          ],
          "name": "stdout"
        }
      ]
    },
    {
      "cell_type": "code",
      "metadata": {
        "colab": {
          "base_uri": "https://localhost:8080/"
        },
        "id": "tJ8KywUK7O0g",
        "outputId": "aedee7fc-2afa-4fa7-b11c-6cddbc0d263c"
      },
      "source": [
        "res = np.array([0,0,0,0])\n",
        "correct_model2 = 0\n",
        "adversaries = 0\n",
        "nonadv = 0\n",
        "abc1=[]\n",
        "abc2=[]\n",
        "abc3=[]\n",
        "abc4=[]\n",
        "for X,y in testloader:\n",
        "    X,y = X.to(device), y.to(device)\n",
        "    delta = fgsm(model, X, y, 0.1)\n",
        "    for i in range(len(X)):\n",
        "        # t1,t2=model((X[i]).reshape(1,1,28,28))\n",
        "        # a = torch.argmax(t1).item()\n",
        "        true = y[i]\n",
        "        # print('ori', a )\n",
        "        t1=model((X[i]+delta[i]).reshape(1,1,28,28))\n",
        "        b = torch.argmax(t1[0]).item()\n",
        "        # print('adv', b )\n",
        "        # print(len(ref[0]),len(ref[0][0]),len(ref[0][0][0]),)\n",
        "        # print(len(out),len(out[0]),len(out[0][0]),)\n",
        "        # losses = np.array([nn.MSELoss()(ref[j].reshape(1,1,28,28),out) for j in range(len(ref))])\n",
        "        # print(losses)\n",
        "        # break\n",
        "        # c = np.argmin(losses)\n",
        "\n",
        "        # t1,t2=model(out.reshape(1,1,28,28))\n",
        "        # c = torch.argmax(t1).item()\n",
        "        # print('dec', c )\n",
        "        # print('\\n')\n",
        "        if(true!=b):\n",
        "            adversaries+=1\n",
        "            t2,t3=model_mid3(t1[3])\n",
        "            abc1.append(nn.MSELoss()(t2,t1[3]).detach().cpu())\n",
        "            abc2.append(torch.norm(t3).detach().cpu())\n",
        "        else:\n",
        "            t2,t3=model_mid3(t1[3])\n",
        "            abc3.append(nn.MSELoss()(t2,t1[3]).detach().cpu())\n",
        "            abc4.append(torch.norm(t3).detach().cpu())\n",
        "#                 res[0]+=1\n",
        "#             else:\n",
        "#                 res[1]+=1\n",
        "#         else:\n",
        "#             adversaries+=1\n",
        "#             if(true==c):\n",
        "#                 correct_model2+=1\n",
        "#             if(b==c):\n",
        "#                 res[2]+=1\n",
        "#             else:\n",
        "#                 res[3]+=1\n",
        "# print(res, correct_model2, adversaries, nonadv)\n",
        "'''0 - correct guess by both models \n",
        "1 - correct by model1 but wrong by model2 \n",
        "2 - wrong by model1 but correct by model2 \n",
        "3 - wrong by both models'''\n",
        "print(adversaries)"
      ],
      "execution_count": null,
      "outputs": [
        {
          "output_type": "stream",
          "text": [
            "3531\n"
          ],
          "name": "stdout"
        }
      ]
    },
    {
      "cell_type": "code",
      "metadata": {
        "colab": {
          "base_uri": "https://localhost:8080/",
          "height": 279
        },
        "id": "TvoKG5sW7OwC",
        "outputId": "455850d2-6482-4bed-b852-f327f3b90950"
      },
      "source": [
        "# plt.scatter(error2,l_norm2,s=1)\n",
        "plt.scatter(abc1,abc2, color='red', s=1)\n",
        "plt.scatter(abc3,abc4, color='green', s=1)\n",
        "plt.xlabel('Reconstruction error')\n",
        "plt.ylabel('Latent Norm')\n",
        "plt.legend(['Normal examples', 'Adversarial examples'])\n",
        "plt.show()"
      ],
      "execution_count": null,
      "outputs": [
        {
          "output_type": "display_data",
          "data": {
            "image/png": "[encoded data removed]",
            "text/plain": [
              "<Figure size 432x288 with 1 Axes>"
            ]
          },
          "metadata": {
            "tags": [],
            "needs_background": "light"
          }
        }
      ]
    },
    {
      "cell_type": "code",
      "metadata": {
        "id": "AJ38PB1H7Ocx"
      },
      "source": [],
      "execution_count": null,
      "outputs": []
    }
  ]
}